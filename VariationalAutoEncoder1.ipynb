{
  "nbformat": 4,
  "nbformat_minor": 0,
  "metadata": {
    "colab": {
      "provenance": []
    },
    "kernelspec": {
      "name": "python3",
      "display_name": "Python 3"
    },
    "language_info": {
      "name": "python"
    }
  },
  "cells": [
    {
      "cell_type": "code",
      "metadata": {
        "colab": {
          "base_uri": "https://localhost:8080/"
        },
        "id": "qA83E9LMHCJK",
        "outputId": "fc7c3762-0d6d-436c-aea2-53dbe76a600e"
      },
      "source": [
        "!pip install keras==2.0 -q\n",
        "!pip install tensorflow==1.13.0rc1 -q"
      ],
      "execution_count": null,
      "outputs": [
        {
          "output_type": "stream",
          "name": "stdout",
          "text": [
            "\u001b[K     |████████████████████████████████| 191 kB 10.0 MB/s \n",
            "\u001b[K     |████████████████████████████████| 454.4 MB 9.0 kB/s \n",
            "\u001b[K     |████████████████████████████████| 4.0 MB 54.2 MB/s \n",
            "\u001b[K     |████████████████████████████████| 1.2 MB 36.6 MB/s \n",
            "\u001b[K     |████████████████████████████████| 462 kB 59.9 MB/s \n",
            "\u001b[?25h  Building wheel for keras (setup.py) ... \u001b[?25l\u001b[?25hdone\n",
            "\u001b[K     |████████████████████████████████| 92.7 MB 49 kB/s \n",
            "\u001b[K     |████████████████████████████████| 3.0 MB 46.3 MB/s \n",
            "\u001b[K     |████████████████████████████████| 367 kB 57.8 MB/s \n",
            "\u001b[K     |████████████████████████████████| 50 kB 7.1 MB/s \n",
            "\u001b[31mERROR: pip's dependency resolver does not currently take into account all the packages that are installed. This behaviour is the source of the following dependency conflicts.\n",
            "kapre 0.3.5 requires tensorflow>=2.0.0, but you have tensorflow 1.13.0rc1 which is incompatible.\u001b[0m\n",
            "\u001b[?25h"
          ]
        }
      ]
    },
    {
      "cell_type": "code",
      "metadata": {
        "colab": {
          "base_uri": "https://localhost:8080/"
        },
        "id": "_Kd73sxIHK4C",
        "outputId": "da165daa-3bb3-480a-e8a1-0a10a7bf1edb"
      },
      "source": [
        "import sys\n",
        "import numpy as np \n",
        "import matplotlib.pyplot as plt \n",
        "import seaborn as sns \n",
        "from scipy.stats import norm \n",
        "\n",
        "from tensorflow.keras.datasets import mnist \n",
        "from tensorflow.keras.optimizers import Adam, RMSprop \n",
        "from tensorflow.keras.layers import Input, Dense, LeakyReLU \n",
        "from tensorflow.keras.layers import BatchNormalization, Dropout, Flatten, Reshape, Lambda \n",
        "from tensorflow.keras.models import Model \n",
        "from tensorflow.keras.losses import binary_crossentropy \n",
        "\n",
        "from tensorflow.keras import backend as K \n",
        "from IPython.display import clear_output \n",
        "from tensorflow.keras.callbacks import LambdaCallback, ReduceLROnPlateau, TensorBoard \n",
        "from scipy.stats import multivariate_normal"
      ],
      "execution_count": null,
      "outputs": [
        {
          "output_type": "stream",
          "name": "stderr",
          "text": [
            "/usr/local/lib/python3.7/dist-packages/tensorflow/python/framework/dtypes.py:526: FutureWarning: Passing (type, 1) or '1type' as a synonym of type is deprecated; in a future version of numpy, it will be understood as (type, (1,)) / '(1,)type'.\n",
            "  _np_qint8 = np.dtype([(\"qint8\", np.int8, 1)])\n",
            "/usr/local/lib/python3.7/dist-packages/tensorflow/python/framework/dtypes.py:527: FutureWarning: Passing (type, 1) or '1type' as a synonym of type is deprecated; in a future version of numpy, it will be understood as (type, (1,)) / '(1,)type'.\n",
            "  _np_quint8 = np.dtype([(\"quint8\", np.uint8, 1)])\n",
            "/usr/local/lib/python3.7/dist-packages/tensorflow/python/framework/dtypes.py:528: FutureWarning: Passing (type, 1) or '1type' as a synonym of type is deprecated; in a future version of numpy, it will be understood as (type, (1,)) / '(1,)type'.\n",
            "  _np_qint16 = np.dtype([(\"qint16\", np.int16, 1)])\n",
            "/usr/local/lib/python3.7/dist-packages/tensorflow/python/framework/dtypes.py:529: FutureWarning: Passing (type, 1) or '1type' as a synonym of type is deprecated; in a future version of numpy, it will be understood as (type, (1,)) / '(1,)type'.\n",
            "  _np_quint16 = np.dtype([(\"quint16\", np.uint16, 1)])\n",
            "/usr/local/lib/python3.7/dist-packages/tensorflow/python/framework/dtypes.py:530: FutureWarning: Passing (type, 1) or '1type' as a synonym of type is deprecated; in a future version of numpy, it will be understood as (type, (1,)) / '(1,)type'.\n",
            "  _np_qint32 = np.dtype([(\"qint32\", np.int32, 1)])\n",
            "/usr/local/lib/python3.7/dist-packages/tensorflow/python/framework/dtypes.py:535: FutureWarning: Passing (type, 1) or '1type' as a synonym of type is deprecated; in a future version of numpy, it will be understood as (type, (1,)) / '(1,)type'.\n",
            "  np_resource = np.dtype([(\"resource\", np.ubyte, 1)])\n"
          ]
        }
      ]
    },
    {
      "cell_type": "code",
      "metadata": {
        "colab": {
          "base_uri": "https://localhost:8080/"
        },
        "id": "KPLhAluDHg-E",
        "outputId": "6feec8cf-c60d-4fc8-9c3f-9d20184d37e6"
      },
      "source": [
        "(x_train, y_train), (x_test, y_test) = mnist.load_data() \n",
        " \n",
        "\n",
        "x_train = x_train.astype('float32') / 255. \n",
        "x_test  = x_test .astype('float32') / 255. \n",
        "x_train = np.reshape(x_train, (len(x_train), 28, 28, 1)) \n",
        "x_test  = np.reshape(x_test,  (len(x_test),  28, 28, 1)) "
      ],
      "execution_count": null,
      "outputs": [
        {
          "output_type": "stream",
          "name": "stdout",
          "text": [
            "Downloading data from https://storage.googleapis.com/tensorflow/tf-keras-datasets/mnist.npz\n",
            "11493376/11490434 [==============================] - 0s 0us/step\n"
          ]
        }
      ]
    },
    {
      "cell_type": "code",
      "metadata": {
        "id": "EyrsUroPHoRo"
      },
      "source": [
        "batch_size = 100 \n",
        "latent_dim = 10 \n",
        "dropout_rate = 0.3 \n",
        "start_lr = 0.0001 "
      ],
      "execution_count": null,
      "outputs": []
    },
    {
      "cell_type": "code",
      "metadata": {
        "colab": {
          "base_uri": "https://localhost:8080/"
        },
        "id": "71kzSF9oIAeC",
        "outputId": "c03c1723-9be3-49dc-c927-71ba233fcc0d"
      },
      "source": [
        "def create_vae(): \n",
        "    models = {} \n",
        " \n",
        "    def apply_bn_and_dropout(x):  \n",
        "        return Dropout(dropout_rate)(BatchNormalization()(x)) \n",
        "        \n",
        "    input_img = Input(batch_shape=(batch_size, 28, 28, 1)) \n",
        "    x = Flatten()(input_img) \n",
        "    x = Dense(256, activation='relu')(x) \n",
        "    x = apply_bn_and_dropout(x) \n",
        "    x = Dense(128, activation='relu')(x)\n",
        "    x = apply_bn_and_dropout(x) \n",
        " \n",
        "    z_mean = Dense(latent_dim)(x) \n",
        "    \n",
        "    z_log_var = Dense(latent_dim)(x) \n",
        " \n",
        "    def sampling(args): \n",
        "        z_mean, z_log_var = args \n",
        " \n",
        "        epsilon = K.random_normal(shape=(batch_size, latent_dim), mean=0., stddev=1.0)\n",
        "        \n",
        "        return z_mean + K.exp(z_log_var / 2) * epsilon\n",
        "      \n",
        "    l = Lambda(sampling, output_shape=(latent_dim,))([z_mean, z_log_var])\n",
        "\n",
        "    models[\"encoder\"]  = Model(input_img, l) \n",
        "    \n",
        "    models[\"z_meaner\"] = Model(input_img, z_mean) \n",
        "    \n",
        "    models[\"z_lvarer\"] = Model(input_img, z_log_var) \n",
        " \n",
        "    z = Input(shape=(latent_dim, )) \n",
        "    x = Dense(128)(z)  \n",
        "    x = LeakyReLU()(x) \n",
        "    x = apply_bn_and_dropout(x) \n",
        "    x = Dense(256)(x) \n",
        "    x = LeakyReLU()(x) \n",
        "    x = apply_bn_and_dropout(x) \n",
        "    x = Dense(28*28, activation='sigmoid')(x) \n",
        "    decoded = Reshape((28, 28, 1))(x) \n",
        "\n",
        "    models[\"decoder\"] = Model(z, decoded, name='Decoder') \n",
        " \n",
        "    models[\"vae\"] = Model(input_img, models[\"decoder\"](models[\"encoder\"](input_img)), name='VAE')\n",
        "\n",
        "    def vae_loss(x, decoded): \n",
        "        x = K.reshape(x, shape=(batch_size, 28*28)) \n",
        "        decoded = K.reshape(decoded, shape=(batch_size, 28*28)) \n",
        "        xent_loss = 28*28*binary_crossentropy(x, decoded) \n",
        "        kl_loss = -0.5 * K.sum(1 + z_log_var - K.square(z_mean) - K.exp(z_log_var), axis=-1) \n",
        "        return (xent_loss + kl_loss)/2/28/28\n",
        "\n",
        "    return models, vae_loss\n",
        "\n",
        "models, vae_loss = create_vae() \n",
        "vae = models[\"vae\"] "
      ],
      "execution_count": null,
      "outputs": [
        {
          "output_type": "stream",
          "name": "stdout",
          "text": [
            "WARNING:tensorflow:From /usr/local/lib/python3.7/dist-packages/tensorflow/python/ops/resource_variable_ops.py:435: colocate_with (from tensorflow.python.framework.ops) is deprecated and will be removed in a future version.\n",
            "Instructions for updating:\n",
            "Colocations handled automatically by placer.\n",
            "WARNING:tensorflow:From /usr/local/lib/python3.7/dist-packages/tensorflow/python/keras/layers/core.py:143: calling dropout (from tensorflow.python.ops.nn_ops) with keep_prob is deprecated and will be removed in a future version.\n",
            "Instructions for updating:\n",
            "Please use `rate` instead of `keep_prob`. Rate should be set to `rate = 1 - keep_prob`.\n"
          ]
        }
      ]
    },
    {
      "cell_type": "code",
      "metadata": {
        "id": "L-CSRZqrKWV2"
      },
      "source": [
        "vae.compile(optimizer=Adam(start_lr), loss=vae_loss)"
      ],
      "execution_count": null,
      "outputs": []
    },
    {
      "cell_type": "code",
      "metadata": {
        "id": "DaD9TYhGKaYn"
      },
      "source": [
        "digit_size = 28 \n",
        "\n",
        "def plot_digits(*args, invert_colors=False): \n",
        "    args = [x.squeeze() for x in args]  \n",
        "    n = min([x.shape[0] for x in args])\n",
        "    figure = np.zeros((digit_size * len(args), digit_size * n)) \n",
        "\n",
        "    for i in range(n):\n",
        "        for j in range(len(args)): \n",
        "            figure[j * digit_size: (j + 1) * digit_size,\n",
        "                   i * digit_size: (i + 1) * digit_size] = args[j][i].squeeze()\n",
        "\n",
        "    if invert_colors: \n",
        "        figure = 1-figure \n",
        "\n",
        "    plt.figure(figsize=(2*n, 2*len(args))) \n",
        "    plt.imshow(figure, cmap='Greys_r') \n",
        "    plt.grid(False) \n",
        "    ax = plt.gca() \n",
        "    ax.get_xaxis().set_visible(False)  \n",
        "    ax.get_yaxis().set_visible(False) \n",
        "    plt.show() \n",
        "\n",
        "n = 15  \n",
        "digit_size = 28\n"
      ],
      "execution_count": null,
      "outputs": []
    },
    {
      "cell_type": "code",
      "metadata": {
        "id": "blFFJeEHLGRj"
      },
      "source": [
        "latent_distrs = []\n",
        "epochs = []\n",
        " \n",
        "save_epochs = set([i*5 for i in range(0,25)])\n",
        " \n",
        "imgs = x_test[:batch_size]\n",
        "n_compare = 10\n",
        " \n",
        "generator      = models[\"decoder\"]\n",
        "encoder_mean   = models[\"z_meaner\"]\n",
        " \n",
        "def on_epoch_end(epoch, logs):\n",
        "    if epoch in save_epochs:\n",
        "        clear_output() \n",
        " \n",
        "        decoded = vae.predict(imgs, batch_size=batch_size)\n",
        "        plot_digits(imgs[:n_compare], decoded[:n_compare])\n",
        " \n",
        "        epochs.append(epoch)\n",
        " \n",
        "        latent_distrs.append(encoder_mean.predict(x_test, batch_size))\n",
        " \n",
        "pltfig = LambdaCallback(on_epoch_end=on_epoch_end)"
      ],
      "execution_count": null,
      "outputs": []
    },
    {
      "cell_type": "code",
      "metadata": {
        "colab": {
          "base_uri": "https://localhost:8080/",
          "height": 420
        },
        "id": "OT7tojx8LW9s",
        "outputId": "6182c59f-1d69-4981-b628-7a7d0b850a60"
      },
      "source": [
        "vae.fit(x_train, x_train, shuffle=True, epochs=10,\n",
        "        batch_size=batch_size,\n",
        "        validation_data=(x_test, x_test),\n",
        "        callbacks=[pltfig],\n",
        "        verbose=1) "
      ],
      "execution_count": null,
      "outputs": [
        {
          "output_type": "display_data",
          "data": {
            "image/png": "[encoded data removed]",
            "text/plain": [
              "<Figure size 1440x288 with 1 Axes>"
            ]
          },
          "metadata": {
            "needs_background": "light"
          }
        },
        {
          "output_type": "stream",
          "name": "stdout",
          "text": [
            "60000/60000 [==============================] - 16s 273us/sample - loss: 0.1048 - val_loss: 0.0924\n",
            "Epoch 7/10\n",
            "60000/60000 [==============================] - 16s 264us/sample - loss: 0.1015 - val_loss: 0.0898\n",
            "Epoch 8/10\n",
            "60000/60000 [==============================] - 16s 262us/sample - loss: 0.0990 - val_loss: 0.0878\n",
            "Epoch 9/10\n",
            "60000/60000 [==============================] - 16s 263us/sample - loss: 0.0974 - val_loss: 0.0865\n",
            "Epoch 10/10\n",
            "60000/60000 [==============================] - 16s 264us/sample - loss: 0.0962 - val_loss: 0.0856\n"
          ]
        },
        {
          "output_type": "execute_result",
          "data": {
            "text/plain": [
              "<tensorflow.python.keras.callbacks.History at 0x7f5f34268090>"
            ]
          },
          "metadata": {},
          "execution_count": 9
        }
      ]
    }
  ]
}