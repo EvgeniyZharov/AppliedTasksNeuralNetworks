{
  "nbformat": 4,
  "nbformat_minor": 0,
  "metadata": {
    "colab": {
      "provenance": []
    },
    "kernelspec": {
      "name": "python3",
      "display_name": "Python 3"
    },
    "language_info": {
      "name": "python"
    }
  },
  "cells": [
    {
      "cell_type": "markdown",
      "source": [
        "Найдите любую базу, подходящую для регрессии:\n",
        "\n",
        "1. Сделайте парсинг и обработку данных.\n",
        "2. Разделите данные на обучающую и проверочную выборки\n",
        "3. Напишите сеть для регрессии\n",
        "4. Сделайте визуализацию результата\n",
        "5. Напишите ваши результаты и выводы"
      ],
      "metadata": {
        "id": "qgzk_4Zsd5VJ"
      }
    },
    {
      "cell_type": "markdown",
      "metadata": {
        "id": "vGIl7WXpsiur"
      },
      "source": [
        "# Импорт библиотек"
      ]
    },
    {
      "cell_type": "code",
      "metadata": {
        "id": "ATH_MIbr0wZg"
      },
      "source": [
        "from tensorflow.keras.models import Sequential, Model\n",
        "from tensorflow.keras.layers import concatenate, Input, Dense, Dropout, BatchNormalization, Flatten\n",
        "from tensorflow.keras import utils\n",
        "from tensorflow.keras.optimizers import Adam, Adadelta, SGD, Adagrad, RMSprop\n",
        "from tensorflow.keras.preprocessing.text import Tokenizer, text_to_word_sequence\n",
        "from tensorflow.keras.preprocessing.sequence import pad_sequences\n",
        "from tensorflow.keras.callbacks import LambdaCallback\n",
        "from tensorflow.keras.datasets import boston_housing\n",
        "\n",
        "from sklearn.preprocessing import StandardScaler\n",
        "from sklearn.model_selection import train_test_split\n",
        "from sklearn.metrics import mean_squared_error, mean_absolute_error\n",
        "\n",
        "import numpy as np\n",
        "import pandas as pd\n",
        "import random\n",
        "import math\n",
        "from google.colab import drive\n",
        "import time\n",
        "\n",
        "import re\n",
        "import matplotlib.pyplot as plt\n",
        "%matplotlib inline\n",
        "\n",
        "from IPython.display import clear_output"
      ],
      "execution_count": null,
      "outputs": []
    },
    {
      "cell_type": "code",
      "metadata": {
        "id": "BxQFh8yHveri"
      },
      "source": [
        "np.random.seed(42)"
      ],
      "execution_count": null,
      "outputs": []
    },
    {
      "cell_type": "markdown",
      "metadata": {
        "id": "biUFAt-osnyi"
      },
      "source": [
        "# Подключение к Гугл диску"
      ]
    },
    {
      "cell_type": "markdown",
      "metadata": {
        "id": "Bot7HAD9vzCQ"
      },
      "source": [
        "# Подготовка данных"
      ]
    },
    {
      "cell_type": "markdown",
      "source": [
        "Набор данных boston_housing:\n",
        "Набор содержит 13 различных свойств:\n",
        "\n",
        "Уровень преступности на душу населения.\n",
        "\n",
        "Доля жилой земли, выделенной для участков более 25 000 квадратных футов.\n",
        "\n",
        "Доля не торговых бизнес акров на город.\n",
        "\n",
        "Переменная реки Чарлз (равна 1 если рядом река, 0 если нет).\n",
        "\n",
        "Концентрация оксидов азота (частей на 10 миллионов)\n",
        "\n",
        "Среднее количество комнат на жилье.\n",
        "\n",
        "Пропорция домов частных владельцев, построенных до 1940 года.\n",
        "\n",
        "Взвешенные расстояния до пяти рабочих центров Бостона.\n",
        "\n",
        "Индекс доступности близлежащих автомагистралей.\n",
        "\n",
        "Полная стоимость налога на имущество на 10 000 долларов США.\n",
        "\n",
        "Среднее количество учителей для детей на город.\n",
        "\n",
        "1000 * (Bk - 0.63) ** 2, где Bk - это пропорция афроамериканцев на город.\n",
        "\n",
        "Процент населения с низким социальным статусом.\n"
      ],
      "metadata": {
        "id": "dyRi0sGaY2cs"
      }
    },
    {
      "cell_type": "code",
      "metadata": {
        "id": "kjwdxNJjv2Rn",
        "outputId": "e999c953-cbe9-4083-a4e6-4009c2c02790",
        "colab": {
          "base_uri": "https://localhost:8080/"
        }
      },
      "source": [
        "(xTrain, yTrain), (xTest, yTest) = boston_housing.load_data()\n",
        "print(xTrain.shape)\n",
        "print(yTrain.shape)"
      ],
      "execution_count": null,
      "outputs": [
        {
          "output_type": "stream",
          "name": "stdout",
          "text": [
            "(404, 13)\n",
            "(404,)\n"
          ]
        }
      ]
    },
    {
      "cell_type": "code",
      "source": [
        "print(yTrain.shape)"
      ],
      "metadata": {
        "colab": {
          "base_uri": "https://localhost:8080/"
        },
        "id": "-Tq5oRqubO4M",
        "outputId": "cfe410aa-8808-45df-fb1c-40c9ab40b45e"
      },
      "execution_count": null,
      "outputs": [
        {
          "output_type": "stream",
          "name": "stdout",
          "text": [
            "(404,)\n"
          ]
        }
      ]
    },
    {
      "cell_type": "markdown",
      "source": [
        "Для обучения модели возьмем 1, 4 и 6 параметры"
      ],
      "metadata": {
        "id": "g1FTRzUFZOc3"
      }
    },
    {
      "cell_type": "code",
      "source": [
        "xStandardOne = StandardScaler()\n",
        "xStandardTwo = StandardScaler()\n",
        "xStandardThree = StandardScaler()\n",
        "\n",
        "xStandardOne.fit(xTrain[:,0].reshape(-1,1))\n",
        "xStandardTwo.fit(xTrain[:,3].reshape(-1,1))\n",
        "xStandardThree.fit(xTrain[:,5].reshape(-1,1))\n",
        "\n",
        "xTrainScaled = xTrain[:,:3].copy()\n",
        "xTestScaled = xTest[:,:3].copy()\n",
        "\n",
        "xTrainScaled[:,0] = xStandardOne.transform(xTrain[:,0].reshape(-1,1)).flatten()\n",
        "xTrainScaled[:,1] = xStandardTwo.transform(xTrain[:,3].reshape(-1,1)).flatten()\n",
        "xTrainScaled[:,2] = xStandardThree.transform(xTrain[:,5].reshape(-1,1)).flatten()\n",
        "xTestScaled[:,0] = xStandardOne.transform(xTest[:,5].reshape(-1,1)).flatten()\n",
        "xTestScaled[:,1] = xStandardTwo.transform(xTest[:,5].reshape(-1,1)).flatten()\n",
        "xTestScaled[:,2] = xStandardThree.transform(xTest[:,5].reshape(-1,1)).flatten()\n",
        "\n",
        "yScaler = StandardScaler()\n",
        "yScaler.fit(yTrain.reshape(-1,1))\n",
        "yTrainScaled = yScaler.transform(yTrain.reshape(-1,1))\n",
        "# yTestScaled = yScaler.transform(yTest.reshape(-1,1))"
      ],
      "metadata": {
        "id": "rqUw2S2CZX5A"
      },
      "execution_count": null,
      "outputs": []
    },
    {
      "cell_type": "code",
      "source": [
        "print(xTrainScaled.shape)\n",
        "print(yTrainScaled.shape)"
      ],
      "metadata": {
        "colab": {
          "base_uri": "https://localhost:8080/"
        },
        "id": "ve76pOELfSak",
        "outputId": "96feac65-f39a-4cae-81c9-345c75cc5179"
      },
      "execution_count": null,
      "outputs": [
        {
          "output_type": "stream",
          "name": "stdout",
          "text": [
            "(404, 3)\n",
            "(404, 1)\n"
          ]
        }
      ]
    },
    {
      "cell_type": "code",
      "source": [
        "def create_model():\n",
        "  input = Input(shape=(xTrainScaled.shape[1]))\n",
        "\n",
        "  x = Dense(256, activation=\"relu\")(input)\n",
        "  x = Dense(128, activation=\"relu\")(x)\n",
        "  x = Dense(1, activation=\"relu\")(x)\n",
        "\n",
        "  model = Model(input, x)\n",
        "\n",
        "  model.compile(optimizer=Adam(lr=1e-3), loss='mse', metrics=['mae'])\n",
        "\n",
        "  model.summary()\n",
        "  \n",
        "  return model\n",
        "\n"
      ],
      "metadata": {
        "id": "5HnsYwynfZM5"
      },
      "execution_count": null,
      "outputs": []
    },
    {
      "cell_type": "code",
      "source": [
        "def show(history):\n",
        "  plt.plot(history.history['mae'], \n",
        "         label='Средняя абсолютная ошибка на обучающем наборе')\n",
        "  plt.plot(history.history['val_mae'], \n",
        "          label='Средняя абсолютная ошибка на проверочном наборе')\n",
        "  plt.xlabel('Эпоха обучения')\n",
        "  plt.ylabel('Средняя абсолютная ошибка')\n",
        "  plt.legend()\n",
        "  plt.show()"
      ],
      "metadata": {
        "id": "kikY5yEFiNUk"
      },
      "execution_count": null,
      "outputs": []
    },
    {
      "cell_type": "code",
      "source": [
        "epochs = 10\n",
        "\n",
        "model = create_model()\n",
        "\n",
        "history = model.fit(xTrainScaled,\n",
        "                    yTrainScaled,\n",
        "                    epochs=epochs,\n",
        "                    validation_split=0.1,\n",
        "                    verbose=1\n",
        "                    )\n",
        "\n",
        "show(history)"
      ],
      "metadata": {
        "colab": {
          "base_uri": "https://localhost:8080/",
          "height": 976
        },
        "id": "kdMhnvLTgJu7",
        "outputId": "f22a9417-72fd-45f2-c0b9-a7c2c7b7a8e9"
      },
      "execution_count": null,
      "outputs": [
        {
          "output_type": "stream",
          "name": "stdout",
          "text": [
            "Model: \"model_15\"\n",
            "_________________________________________________________________\n",
            " Layer (type)                Output Shape              Param #   \n",
            "=================================================================\n",
            " input_18 (InputLayer)       [(None, 3)]               0         \n",
            "                                                                 \n",
            " dense_47 (Dense)            (None, 256)               1024      \n",
            "                                                                 \n",
            " dense_48 (Dense)            (None, 128)               32896     \n",
            "                                                                 \n",
            " dense_49 (Dense)            (None, 1)                 129       \n",
            "                                                                 \n",
            "=================================================================\n",
            "Total params: 34,049\n",
            "Trainable params: 34,049\n",
            "Non-trainable params: 0\n",
            "_________________________________________________________________\n",
            "Epoch 1/10\n"
          ]
        },
        {
          "output_type": "stream",
          "name": "stderr",
          "text": [
            "/usr/local/lib/python3.7/dist-packages/keras/optimizer_v2/adam.py:105: UserWarning: The `lr` argument is deprecated, use `learning_rate` instead.\n",
            "  super(Adam, self).__init__(name, **kwargs)\n"
          ]
        },
        {
          "output_type": "stream",
          "name": "stdout",
          "text": [
            "12/12 [==============================] - 1s 18ms/step - loss: 0.6847 - mae: 0.6179 - val_loss: 0.4676 - val_mae: 0.5397\n",
            "Epoch 2/10\n",
            "12/12 [==============================] - 0s 4ms/step - loss: 0.5431 - mae: 0.5624 - val_loss: 0.3832 - val_mae: 0.4894\n",
            "Epoch 3/10\n",
            "12/12 [==============================] - 0s 4ms/step - loss: 0.5077 - mae: 0.5208 - val_loss: 0.3707 - val_mae: 0.4866\n",
            "Epoch 4/10\n",
            "12/12 [==============================] - 0s 5ms/step - loss: 0.5031 - mae: 0.5202 - val_loss: 0.3867 - val_mae: 0.5054\n",
            "Epoch 5/10\n",
            "12/12 [==============================] - 0s 4ms/step - loss: 0.5066 - mae: 0.5237 - val_loss: 0.3937 - val_mae: 0.5075\n",
            "Epoch 6/10\n",
            "12/12 [==============================] - 0s 5ms/step - loss: 0.5025 - mae: 0.5198 - val_loss: 0.3790 - val_mae: 0.4975\n",
            "Epoch 7/10\n",
            "12/12 [==============================] - 0s 4ms/step - loss: 0.5024 - mae: 0.5201 - val_loss: 0.3812 - val_mae: 0.4982\n",
            "Epoch 8/10\n",
            "12/12 [==============================] - 0s 4ms/step - loss: 0.4995 - mae: 0.5214 - val_loss: 0.4013 - val_mae: 0.5141\n",
            "Epoch 9/10\n",
            "12/12 [==============================] - 0s 4ms/step - loss: 0.4988 - mae: 0.5209 - val_loss: 0.4130 - val_mae: 0.5188\n",
            "Epoch 10/10\n",
            "12/12 [==============================] - 0s 5ms/step - loss: 0.4937 - mae: 0.5201 - val_loss: 0.4158 - val_mae: 0.5143\n"
          ]
        },
        {
          "output_type": "display_data",
          "data": {
            "text/plain": [
              "<Figure size 432x288 with 1 Axes>"
            ],
            "image/png": "[encoded data removed]"
          },
          "metadata": {
            "needs_background": "light"
          }
        }
      ]
    },
    {
      "cell_type": "code",
      "source": [
        "yPredScaled = model.predict(xTestScaled[:10])\n",
        "yPred = yScaler.inverse_transform(yPredScaled)\n",
        "\n",
        "for ii in range(10):\n",
        "  print(f\"Должно быть: {yTest[ii]}\\nМодель предсказала: {round(yPred[ii][0])}\\n\")"
      ],
      "metadata": {
        "colab": {
          "base_uri": "https://localhost:8080/"
        },
        "id": "xL_5ZhPskgul",
        "outputId": "946e0209-2baa-4b80-c65b-99bced8f4afc"
      },
      "execution_count": null,
      "outputs": [
        {
          "output_type": "stream",
          "name": "stdout",
          "text": [
            "Должно быть: 7.2\n",
            "Модель предсказала: 71\n",
            "\n",
            "Должно быть: 18.8\n",
            "Модель предсказала: 59\n",
            "\n",
            "Должно быть: 19.0\n",
            "Модель предсказала: 61\n",
            "\n",
            "Должно быть: 27.0\n",
            "Модель предсказала: 67\n",
            "\n",
            "Должно быть: 22.2\n",
            "Модель предсказала: 64\n",
            "\n",
            "Должно быть: 24.5\n",
            "Модель предсказала: 59\n",
            "\n",
            "Должно быть: 31.2\n",
            "Модель предсказала: 82\n",
            "\n",
            "Должно быть: 22.9\n",
            "Модель предсказала: 65\n",
            "\n",
            "Должно быть: 20.5\n",
            "Модель предсказала: 60\n",
            "\n",
            "Должно быть: 23.2\n",
            "Модель предсказала: 71\n",
            "\n"
          ]
        }
      ]
    },
    {
      "cell_type": "markdown",
      "source": [
        "Вывод: чтобы улучшить качество модели можно увеличить количество параметров, а также сделать архитектуру сложнее"
      ],
      "metadata": {
        "id": "sXj2BizZlQlU"
      }
    }
  ]
}