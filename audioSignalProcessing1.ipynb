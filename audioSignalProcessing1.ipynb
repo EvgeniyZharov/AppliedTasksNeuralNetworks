{
  "nbformat": 4,
  "nbformat_minor": 0,
  "metadata": {
    "colab": {
      "provenance": []
    },
    "kernelspec": {
      "name": "python3",
      "display_name": "Python 3"
    },
    "language_info": {
      "name": "python"
    }
  },
  "cells": [
    {
      "cell_type": "markdown",
      "source": [
        "Используя шаблон ноутбука, напишите загрузку данных и распознавание стилей музыки с помощью Dense сети. \n",
        "\n",
        "Можно подсматривать в исходный ноутбук с занятия, но желательно писать код своими руками"
      ],
      "metadata": {
        "id": "b8L8MQeRou1u"
      }
    },
    {
      "cell_type": "markdown",
      "metadata": {
        "id": "f_tJwLZvoMmp"
      },
      "source": [
        "# Импорт библиотек"
      ]
    },
    {
      "cell_type": "code",
      "metadata": {
        "id": "r24zKLNloHh4"
      },
      "source": [
        "from google.colab import files, drive\n",
        "from tensorflow.keras.utils import to_categorical\n",
        "import os\n",
        "import librosa\n",
        "import numpy as np\n",
        "import matplotlib.pyplot as plt\n",
        "\n",
        "from tensorflow.keras.optimizers import Adam, RMSprop\n",
        "from tensorflow.keras.models import Sequential, Model\n",
        "from tensorflow.keras.layers import concatenate, Input, Dense, Dropout, BatchNormalization, Flatten, Conv1D, Conv2D, LSTM\n",
        "from sklearn.model_selection import train_test_split\n",
        "from sklearn.preprocessing import LabelEncoder, StandardScaler"
      ],
      "execution_count": null,
      "outputs": []
    },
    {
      "cell_type": "markdown",
      "metadata": {
        "id": "eDWw4AdJpC4s"
      },
      "source": [
        "# Подключение к Диску и импорт данных"
      ]
    },
    {
      "cell_type": "code",
      "metadata": {
        "colab": {
          "base_uri": "https://localhost:8080/"
        },
        "id": "XuqtaPjGoa-0",
        "outputId": "211c701c-1be3-4c01-be70-b53c0fddab69"
      },
      "source": [
        "drive.mount('/content/drive')\n",
        "!unzip -q '/content/drive/MyDrive/Lessons/Lesson8/genres.zip'\n",
        "genres = os.listdir('genres')\n",
        "!ls genres \n",
        "!ls genres/blues"
      ],
      "execution_count": null,
      "outputs": [
        {
          "output_type": "stream",
          "name": "stdout",
          "text": [
            "Drive already mounted at /content/drive; to attempt to forcibly remount, call drive.mount(\"/content/drive\", force_remount=True).\n",
            "blues  classical  country  disco  hiphop  jazz\tmetal  pop  reggae  rock\n",
            "blues.00000.au\tblues.00020.au\tblues.00040.au\tblues.00060.au\tblues.00080.au\n",
            "blues.00001.au\tblues.00021.au\tblues.00041.au\tblues.00061.au\tblues.00081.au\n",
            "blues.00002.au\tblues.00022.au\tblues.00042.au\tblues.00062.au\tblues.00082.au\n",
            "blues.00003.au\tblues.00023.au\tblues.00043.au\tblues.00063.au\tblues.00083.au\n",
            "blues.00004.au\tblues.00024.au\tblues.00044.au\tblues.00064.au\tblues.00084.au\n",
            "blues.00005.au\tblues.00025.au\tblues.00045.au\tblues.00065.au\tblues.00085.au\n",
            "blues.00006.au\tblues.00026.au\tblues.00046.au\tblues.00066.au\tblues.00086.au\n",
            "blues.00007.au\tblues.00027.au\tblues.00047.au\tblues.00067.au\tblues.00087.au\n",
            "blues.00008.au\tblues.00028.au\tblues.00048.au\tblues.00068.au\tblues.00088.au\n",
            "blues.00009.au\tblues.00029.au\tblues.00049.au\tblues.00069.au\tblues.00089.au\n",
            "blues.00010.au\tblues.00030.au\tblues.00050.au\tblues.00070.au\tblues.00090.au\n",
            "blues.00011.au\tblues.00031.au\tblues.00051.au\tblues.00071.au\tblues.00091.au\n",
            "blues.00012.au\tblues.00032.au\tblues.00052.au\tblues.00072.au\tblues.00092.au\n",
            "blues.00013.au\tblues.00033.au\tblues.00053.au\tblues.00073.au\tblues.00093.au\n",
            "blues.00014.au\tblues.00034.au\tblues.00054.au\tblues.00074.au\tblues.00094.au\n",
            "blues.00015.au\tblues.00035.au\tblues.00055.au\tblues.00075.au\tblues.00095.au\n",
            "blues.00016.au\tblues.00036.au\tblues.00056.au\tblues.00076.au\tblues.00096.au\n",
            "blues.00017.au\tblues.00037.au\tblues.00057.au\tblues.00077.au\tblues.00097.au\n",
            "blues.00018.au\tblues.00038.au\tblues.00058.au\tblues.00078.au\tblues.00098.au\n",
            "blues.00019.au\tblues.00039.au\tblues.00059.au\tblues.00079.au\tblues.00099.au\n"
          ]
        }
      ]
    },
    {
      "cell_type": "markdown",
      "metadata": {
        "id": "TFNlh_17pPej"
      },
      "source": [
        "# Функции для работы с аудиозаписями"
      ]
    },
    {
      "cell_type": "code",
      "metadata": {
        "id": "nZjPMTqcpSqJ"
      },
      "source": [
        "def get_features(y, sr):\n",
        "  chroma_stft = librosa.feature.chroma_stft(y=y, sr=sr)\n",
        "  mfcc = librosa.feature.mfcc(y=y, sr=sr)\n",
        "  \n",
        "  rmse = np.mean(librosa.feature.rms(y=y))\n",
        "  spec_cent = np.mean(librosa.feature.spectral_centroid(y=y, sr=sr))\n",
        "  spec_bw = np.mean(librosa.feature.spectral_bandwidth(y=y, sr=sr))\n",
        "  rolloff = np.mean(librosa.feature.spectral_rolloff(y=y, sr=sr))\n",
        "  zcr = np.mean(librosa.feature.zero_crossing_rate(y))\n",
        "  \n",
        "  out = []\n",
        "  out.append(rmse)\n",
        "  out.append(spec_cent)\n",
        "  out.append(spec_bw)\n",
        "  out.append(rolloff)\n",
        "  out.append(zcr)\n",
        "\n",
        "  for e in mfcc:\n",
        "    out.append(np.mean(e))\n",
        "\n",
        "  for e in chroma_stft:\n",
        "    out.append(np.mean(e))\n",
        "  \n",
        "  return out"
      ],
      "execution_count": null,
      "outputs": []
    },
    {
      "cell_type": "markdown",
      "metadata": {
        "id": "EU3WSsVlz7LF"
      },
      "source": [
        " # Подготовка данных для обучения"
      ]
    },
    {
      "cell_type": "code",
      "metadata": {
        "colab": {
          "base_uri": "https://localhost:8080/"
        },
        "id": "XCOKbqm5ptV6",
        "outputId": "43d22611-6ce7-442b-ec74-021ee5da3c6d"
      },
      "source": [
        "import time\n",
        "\n",
        "X_train = []\n",
        "Y_train = []\n",
        "\n",
        "curr_time = time.time()\n",
        "\n",
        "for i in range(len(genres)):\n",
        "  g = genres[i]\n",
        "  for filename in os.listdir(f'./genres/{g}'):\n",
        "    songname = f'./genres/{g}/{filename}'\n",
        "    y, sr = librosa.load(songname, mono=True, duration=30)\n",
        "    out = get_features(y, sr)\n",
        "    \n",
        "    X_train.append(out)\n",
        "    Y_train.append(to_categorical(i, len(genres)))\n",
        "\n",
        "  print(\"Жанр \", g, \" готов -> \", round(time.time() - curr_time), \"c\", sep=\"\")\n",
        "  curr_time = time.time()\n",
        "\n",
        "X_train = np.array(X_train)\n",
        "Y_train = np.array(Y_train)"
      ],
      "execution_count": null,
      "outputs": [
        {
          "output_type": "stream",
          "name": "stdout",
          "text": [
            "Жанр reggae готов -> 45c\n",
            "Жанр classical готов -> 48c\n",
            "Жанр pop готов -> 43c\n",
            "Жанр country готов -> 44c\n",
            "Жанр metal готов -> 43c\n",
            "Жанр rock готов -> 44c\n",
            "Жанр disco готов -> 44c\n",
            "Жанр blues готов -> 43c\n",
            "Жанр hiphop готов -> 43c\n",
            "Жанр jazz готов -> 45c\n"
          ]
        }
      ]
    },
    {
      "cell_type": "code",
      "metadata": {
        "id": "np2zNAPgqBXT"
      },
      "source": [
        "X_train_backup = X_train.copy()\n",
        "Y_train_backup = Y_train.copy()"
      ],
      "execution_count": null,
      "outputs": []
    },
    {
      "cell_type": "code",
      "metadata": {
        "colab": {
          "base_uri": "https://localhost:8080/"
        },
        "id": "pJ2CfNT9qEqJ",
        "outputId": "ceb3ddd5-979f-476d-8330-1fab469f1a13"
      },
      "source": [
        "y_train_class = np.argmax(Y_train, axis=1)\n",
        "print(y_train_class)"
      ],
      "execution_count": null,
      "outputs": [
        {
          "output_type": "stream",
          "name": "stdout",
          "text": [
            "[0 0 0 0 0 0 0 0 0 0 0 0 0 0 0 0 0 0 0 0 0 0 0 0 0 0 0 0 0 0 0 0 0 0 0 0 0\n",
            " 0 0 0 0 0 0 0 0 0 0 0 0 0 0 0 0 0 0 0 0 0 0 0 0 0 0 0 0 0 0 0 0 0 0 0 0 0\n",
            " 0 0 0 0 0 0 0 0 0 0 0 0 0 0 0 0 0 0 0 0 0 0 0 0 0 0 1 1 1 1 1 1 1 1 1 1 1\n",
            " 1 1 1 1 1 1 1 1 1 1 1 1 1 1 1 1 1 1 1 1 1 1 1 1 1 1 1 1 1 1 1 1 1 1 1 1 1\n",
            " 1 1 1 1 1 1 1 1 1 1 1 1 1 1 1 1 1 1 1 1 1 1 1 1 1 1 1 1 1 1 1 1 1 1 1 1 1\n",
            " 1 1 1 1 1 1 1 1 1 1 1 1 1 1 1 2 2 2 2 2 2 2 2 2 2 2 2 2 2 2 2 2 2 2 2 2 2\n",
            " 2 2 2 2 2 2 2 2 2 2 2 2 2 2 2 2 2 2 2 2 2 2 2 2 2 2 2 2 2 2 2 2 2 2 2 2 2\n",
            " 2 2 2 2 2 2 2 2 2 2 2 2 2 2 2 2 2 2 2 2 2 2 2 2 2 2 2 2 2 2 2 2 2 2 2 2 2\n",
            " 2 2 2 2 3 3 3 3 3 3 3 3 3 3 3 3 3 3 3 3 3 3 3 3 3 3 3 3 3 3 3 3 3 3 3 3 3\n",
            " 3 3 3 3 3 3 3 3 3 3 3 3 3 3 3 3 3 3 3 3 3 3 3 3 3 3 3 3 3 3 3 3 3 3 3 3 3\n",
            " 3 3 3 3 3 3 3 3 3 3 3 3 3 3 3 3 3 3 3 3 3 3 3 3 3 3 3 3 3 3 4 4 4 4 4 4 4\n",
            " 4 4 4 4 4 4 4 4 4 4 4 4 4 4 4 4 4 4 4 4 4 4 4 4 4 4 4 4 4 4 4 4 4 4 4 4 4\n",
            " 4 4 4 4 4 4 4 4 4 4 4 4 4 4 4 4 4 4 4 4 4 4 4 4 4 4 4 4 4 4 4 4 4 4 4 4 4\n",
            " 4 4 4 4 4 4 4 4 4 4 4 4 4 4 4 4 4 4 4 5 5 5 5 5 5 5 5 5 5 5 5 5 5 5 5 5 5\n",
            " 5 5 5 5 5 5 5 5 5 5 5 5 5 5 5 5 5 5 5 5 5 5 5 5 5 5 5 5 5 5 5 5 5 5 5 5 5\n",
            " 5 5 5 5 5 5 5 5 5 5 5 5 5 5 5 5 5 5 5 5 5 5 5 5 5 5 5 5 5 5 5 5 5 5 5 5 5\n",
            " 5 5 5 5 5 5 5 5 6 6 6 6 6 6 6 6 6 6 6 6 6 6 6 6 6 6 6 6 6 6 6 6 6 6 6 6 6\n",
            " 6 6 6 6 6 6 6 6 6 6 6 6 6 6 6 6 6 6 6 6 6 6 6 6 6 6 6 6 6 6 6 6 6 6 6 6 6\n",
            " 6 6 6 6 6 6 6 6 6 6 6 6 6 6 6 6 6 6 6 6 6 6 6 6 6 6 6 6 6 6 6 6 6 6 7 7 7\n",
            " 7 7 7 7 7 7 7 7 7 7 7 7 7 7 7 7 7 7 7 7 7 7 7 7 7 7 7 7 7 7 7 7 7 7 7 7 7\n",
            " 7 7 7 7 7 7 7 7 7 7 7 7 7 7 7 7 7 7 7 7 7 7 7 7 7 7 7 7 7 7 7 7 7 7 7 7 7\n",
            " 7 7 7 7 7 7 7 7 7 7 7 7 7 7 7 7 7 7 7 7 7 7 7 8 8 8 8 8 8 8 8 8 8 8 8 8 8\n",
            " 8 8 8 8 8 8 8 8 8 8 8 8 8 8 8 8 8 8 8 8 8 8 8 8 8 8 8 8 8 8 8 8 8 8 8 8 8\n",
            " 8 8 8 8 8 8 8 8 8 8 8 8 8 8 8 8 8 8 8 8 8 8 8 8 8 8 8 8 8 8 8 8 8 8 8 8 8\n",
            " 8 8 8 8 8 8 8 8 8 8 8 8 9 9 9 9 9 9 9 9 9 9 9 9 9 9 9 9 9 9 9 9 9 9 9 9 9\n",
            " 9 9 9 9 9 9 9 9 9 9 9 9 9 9 9 9 9 9 9 9 9 9 9 9 9 9 9 9 9 9 9 9 9 9 9 9 9\n",
            " 9 9 9 9 9 9 9 9 9 9 9 9 9 9 9 9 9 9 9 9 9 9 9 9 9 9 9 9 9 9 9 9 9 9 9 9 9\n",
            " 9]\n"
          ]
        }
      ]
    },
    {
      "cell_type": "code",
      "metadata": {
        "colab": {
          "base_uri": "https://localhost:8080/"
        },
        "id": "SswrAx5yqGdd",
        "outputId": "5f9435ee-f0ac-4807-bd91-b8d1945dd971"
      },
      "source": [
        "print(X_train.shape)\n",
        "print(Y_train.shape)\n",
        "print(y_train_class.shape)"
      ],
      "execution_count": null,
      "outputs": [
        {
          "output_type": "stream",
          "name": "stdout",
          "text": [
            "(1000, 37)\n",
            "(1000, 10)\n",
            "(1000,)\n"
          ]
        }
      ]
    },
    {
      "cell_type": "markdown",
      "metadata": {
        "id": "3TIYnCH30BWa"
      },
      "source": [
        "## Стандартизация"
      ]
    },
    {
      "cell_type": "code",
      "metadata": {
        "colab": {
          "base_uri": "https://localhost:8080/"
        },
        "id": "y_xjlqqcqNH9",
        "outputId": "4dc7f8ac-40c6-4d0d-9333-9b9b2fcc8ee5"
      },
      "source": [
        "scaler = StandardScaler()\n",
        "\n",
        "X_train = scaler.fit_transform(X_train)\n",
        "print(X_train[0])"
      ],
      "execution_count": null,
      "outputs": [
        {
          "output_type": "stream",
          "name": "stdout",
          "text": [
            "[-0.6143136  -0.62558909 -0.4114107  -0.51006495 -0.71091224 -0.47670988\n",
            "  0.54161429 -0.09331444 -0.38362649  0.0403447   0.57340795 -0.68161325\n",
            "  0.81368626 -0.73490208  0.84803437 -0.20026022  0.05368319  0.32168757\n",
            "  0.26642063  0.46144932 -0.77293625 -0.56070254 -0.49565435 -0.8549368\n",
            " -0.38078171  0.25149268  0.00164557  0.68194754  0.3761638  -0.2863961\n",
            "  0.90566014 -0.11265239 -0.77992947 -0.77952004 -0.41515986  0.9199236\n",
            "  0.05637897]\n"
          ]
        }
      ]
    },
    {
      "cell_type": "code",
      "metadata": {
        "id": "T7_Jfat_qXd_"
      },
      "source": [
        "X_train, X_test, y_train, y_test = train_test_split(X_train, y_train_class, test_size=0.1)"
      ],
      "execution_count": null,
      "outputs": []
    },
    {
      "cell_type": "code",
      "metadata": {
        "colab": {
          "base_uri": "https://localhost:8080/"
        },
        "id": "q_NMAFoPqYn-",
        "outputId": "0c07f9e9-3119-4462-d1db-7978ca7e790f"
      },
      "source": [
        "print(X_train.shape)\n",
        "print(y_train.shape)\n",
        "print(X_test.shape)\n",
        "print(y_test.shape)"
      ],
      "execution_count": null,
      "outputs": [
        {
          "output_type": "stream",
          "name": "stdout",
          "text": [
            "(900, 37)\n",
            "(900,)\n",
            "(100, 37)\n",
            "(100,)\n"
          ]
        }
      ]
    },
    {
      "cell_type": "markdown",
      "metadata": {
        "id": "yGkY7YA3qdh1"
      },
      "source": [
        "# Подготовка и обучение модели"
      ]
    },
    {
      "cell_type": "code",
      "metadata": {
        "colab": {
          "base_uri": "https://localhost:8080/",
          "height": 1000
        },
        "id": "Sm1ZL07Uqit8",
        "outputId": "48768686-b6ee-4c86-fc3a-53371d1cbdb4"
      },
      "source": [
        "indexes = range(0,37)\n",
        "\n",
        "model = Sequential()\n",
        "model.add(Dense(256, activation='elu', input_shape=(len(indexes),)))\n",
        "model.add(Dense(128, activation='elu'))\n",
        "model.add(Dense(64, activation='elu'))\n",
        "model.add(Dense(64, activation='elu'))\n",
        "model.add(Dense(len(genres), activation='softmax'))\n",
        "\n",
        "model.compile(optimizer=RMSprop(lr=1e-4),\n",
        "              loss='sparse_categorical_crossentropy',\n",
        "              metrics=['accuracy'])\n",
        "\n",
        "history = model.fit(X_train[:, indexes],\n",
        "                    y_train,\n",
        "                    epochs=200,\n",
        "                    batch_size=20,\n",
        "                    validation_data=(X_test[:, indexes], y_test))\n",
        "\n",
        "plt.plot(history.history[\"accuracy\"])\n",
        "plt.plot(history.history[\"val_accuracy\"])\n",
        "plt.show()"
      ],
      "execution_count": null,
      "outputs": [
        {
          "output_type": "stream",
          "name": "stderr",
          "text": [
            "/usr/local/lib/python3.7/dist-packages/keras/optimizer_v2/rmsprop.py:130: UserWarning: The `lr` argument is deprecated, use `learning_rate` instead.\n",
            "  super(RMSprop, self).__init__(name, **kwargs)\n"
          ]
        },
        {
          "output_type": "stream",
          "name": "stdout",
          "text": [
            "Epoch 1/200\n",
            "45/45 [==============================] - 1s 7ms/step - loss: 2.0562 - accuracy: 0.2411 - val_loss: 1.8062 - val_accuracy: 0.3300\n",
            "Epoch 2/200\n",
            "45/45 [==============================] - 0s 3ms/step - loss: 1.7066 - accuracy: 0.3811 - val_loss: 1.6296 - val_accuracy: 0.3400\n",
            "Epoch 3/200\n",
            "45/45 [==============================] - 0s 3ms/step - loss: 1.5528 - accuracy: 0.4633 - val_loss: 1.5251 - val_accuracy: 0.4500\n",
            "Epoch 4/200\n",
            "45/45 [==============================] - 0s 3ms/step - loss: 1.4508 - accuracy: 0.5067 - val_loss: 1.4459 - val_accuracy: 0.5200\n",
            "Epoch 5/200\n",
            "45/45 [==============================] - 0s 3ms/step - loss: 1.3752 - accuracy: 0.5344 - val_loss: 1.3983 - val_accuracy: 0.5100\n",
            "Epoch 6/200\n",
            "45/45 [==============================] - 0s 3ms/step - loss: 1.3128 - accuracy: 0.5678 - val_loss: 1.3453 - val_accuracy: 0.5600\n",
            "Epoch 7/200\n",
            "45/45 [==============================] - 0s 3ms/step - loss: 1.2602 - accuracy: 0.5900 - val_loss: 1.3081 - val_accuracy: 0.5600\n",
            "Epoch 8/200\n",
            "45/45 [==============================] - 0s 3ms/step - loss: 1.2140 - accuracy: 0.6133 - val_loss: 1.2748 - val_accuracy: 0.5700\n",
            "Epoch 9/200\n",
            "45/45 [==============================] - 0s 3ms/step - loss: 1.1738 - accuracy: 0.6200 - val_loss: 1.2515 - val_accuracy: 0.5600\n",
            "Epoch 10/200\n",
            "45/45 [==============================] - 0s 3ms/step - loss: 1.1368 - accuracy: 0.6356 - val_loss: 1.2300 - val_accuracy: 0.5800\n",
            "Epoch 11/200\n",
            "45/45 [==============================] - 0s 3ms/step - loss: 1.1047 - accuracy: 0.6533 - val_loss: 1.2240 - val_accuracy: 0.5800\n",
            "Epoch 12/200\n",
            "45/45 [==============================] - 0s 3ms/step - loss: 1.0739 - accuracy: 0.6556 - val_loss: 1.1994 - val_accuracy: 0.6200\n",
            "Epoch 13/200\n",
            "45/45 [==============================] - 0s 3ms/step - loss: 1.0451 - accuracy: 0.6667 - val_loss: 1.1745 - val_accuracy: 0.6100\n",
            "Epoch 14/200\n",
            "45/45 [==============================] - 0s 3ms/step - loss: 1.0210 - accuracy: 0.6800 - val_loss: 1.1716 - val_accuracy: 0.6100\n",
            "Epoch 15/200\n",
            "45/45 [==============================] - 0s 3ms/step - loss: 0.9963 - accuracy: 0.6822 - val_loss: 1.1565 - val_accuracy: 0.6000\n",
            "Epoch 16/200\n",
            "45/45 [==============================] - 0s 3ms/step - loss: 0.9735 - accuracy: 0.6833 - val_loss: 1.1659 - val_accuracy: 0.6000\n",
            "Epoch 17/200\n",
            "45/45 [==============================] - 0s 3ms/step - loss: 0.9512 - accuracy: 0.6944 - val_loss: 1.1389 - val_accuracy: 0.6200\n",
            "Epoch 18/200\n",
            "45/45 [==============================] - 0s 3ms/step - loss: 0.9336 - accuracy: 0.7033 - val_loss: 1.1247 - val_accuracy: 0.6200\n",
            "Epoch 19/200\n",
            "45/45 [==============================] - 0s 3ms/step - loss: 0.9139 - accuracy: 0.7122 - val_loss: 1.1293 - val_accuracy: 0.6100\n",
            "Epoch 20/200\n",
            "45/45 [==============================] - 0s 3ms/step - loss: 0.8955 - accuracy: 0.7133 - val_loss: 1.1133 - val_accuracy: 0.6200\n",
            "Epoch 21/200\n",
            "45/45 [==============================] - 0s 3ms/step - loss: 0.8786 - accuracy: 0.7256 - val_loss: 1.1139 - val_accuracy: 0.6100\n",
            "Epoch 22/200\n",
            "45/45 [==============================] - 0s 3ms/step - loss: 0.8652 - accuracy: 0.7300 - val_loss: 1.1035 - val_accuracy: 0.6200\n",
            "Epoch 23/200\n",
            "45/45 [==============================] - 0s 3ms/step - loss: 0.8474 - accuracy: 0.7378 - val_loss: 1.0968 - val_accuracy: 0.6300\n",
            "Epoch 24/200\n",
            "45/45 [==============================] - 0s 3ms/step - loss: 0.8340 - accuracy: 0.7367 - val_loss: 1.0924 - val_accuracy: 0.6300\n",
            "Epoch 25/200\n",
            "45/45 [==============================] - 0s 3ms/step - loss: 0.8189 - accuracy: 0.7422 - val_loss: 1.0935 - val_accuracy: 0.6300\n",
            "Epoch 26/200\n",
            "45/45 [==============================] - 0s 3ms/step - loss: 0.8056 - accuracy: 0.7522 - val_loss: 1.0814 - val_accuracy: 0.6400\n",
            "Epoch 27/200\n",
            "45/45 [==============================] - 0s 3ms/step - loss: 0.7932 - accuracy: 0.7544 - val_loss: 1.0906 - val_accuracy: 0.6500\n",
            "Epoch 28/200\n",
            "45/45 [==============================] - 0s 3ms/step - loss: 0.7797 - accuracy: 0.7600 - val_loss: 1.0963 - val_accuracy: 0.6200\n",
            "Epoch 29/200\n",
            "45/45 [==============================] - 0s 3ms/step - loss: 0.7678 - accuracy: 0.7600 - val_loss: 1.0751 - val_accuracy: 0.6300\n",
            "Epoch 30/200\n",
            "45/45 [==============================] - 0s 3ms/step - loss: 0.7567 - accuracy: 0.7678 - val_loss: 1.0822 - val_accuracy: 0.6500\n",
            "Epoch 31/200\n",
            "45/45 [==============================] - 0s 3ms/step - loss: 0.7451 - accuracy: 0.7600 - val_loss: 1.0590 - val_accuracy: 0.6400\n",
            "Epoch 32/200\n",
            "45/45 [==============================] - 0s 3ms/step - loss: 0.7349 - accuracy: 0.7711 - val_loss: 1.0502 - val_accuracy: 0.6400\n",
            "Epoch 33/200\n",
            "45/45 [==============================] - 0s 3ms/step - loss: 0.7261 - accuracy: 0.7689 - val_loss: 1.0469 - val_accuracy: 0.6300\n",
            "Epoch 34/200\n",
            "45/45 [==============================] - 0s 3ms/step - loss: 0.7149 - accuracy: 0.7733 - val_loss: 1.0671 - val_accuracy: 0.6500\n",
            "Epoch 35/200\n",
            "45/45 [==============================] - 0s 3ms/step - loss: 0.7044 - accuracy: 0.7722 - val_loss: 1.0731 - val_accuracy: 0.6600\n",
            "Epoch 36/200\n",
            "45/45 [==============================] - 0s 3ms/step - loss: 0.6960 - accuracy: 0.7722 - val_loss: 1.0776 - val_accuracy: 0.6500\n",
            "Epoch 37/200\n",
            "45/45 [==============================] - 0s 3ms/step - loss: 0.6877 - accuracy: 0.7844 - val_loss: 1.0791 - val_accuracy: 0.6400\n",
            "Epoch 38/200\n",
            "45/45 [==============================] - 0s 3ms/step - loss: 0.6780 - accuracy: 0.7722 - val_loss: 1.0590 - val_accuracy: 0.6600\n",
            "Epoch 39/200\n",
            "45/45 [==============================] - 0s 3ms/step - loss: 0.6711 - accuracy: 0.7833 - val_loss: 1.0604 - val_accuracy: 0.6400\n",
            "Epoch 40/200\n",
            "45/45 [==============================] - 0s 3ms/step - loss: 0.6595 - accuracy: 0.7833 - val_loss: 1.0579 - val_accuracy: 0.6600\n",
            "Epoch 41/200\n",
            "45/45 [==============================] - 0s 3ms/step - loss: 0.6523 - accuracy: 0.7878 - val_loss: 1.0482 - val_accuracy: 0.6700\n",
            "Epoch 42/200\n",
            "45/45 [==============================] - 0s 3ms/step - loss: 0.6436 - accuracy: 0.7900 - val_loss: 1.0527 - val_accuracy: 0.6600\n",
            "Epoch 43/200\n",
            "45/45 [==============================] - 0s 3ms/step - loss: 0.6335 - accuracy: 0.7867 - val_loss: 1.0538 - val_accuracy: 0.6500\n",
            "Epoch 44/200\n",
            "45/45 [==============================] - 0s 3ms/step - loss: 0.6283 - accuracy: 0.7944 - val_loss: 1.0672 - val_accuracy: 0.6600\n",
            "Epoch 45/200\n",
            "45/45 [==============================] - 0s 3ms/step - loss: 0.6197 - accuracy: 0.7978 - val_loss: 1.0669 - val_accuracy: 0.6500\n",
            "Epoch 46/200\n",
            "45/45 [==============================] - 0s 4ms/step - loss: 0.6142 - accuracy: 0.7967 - val_loss: 1.0672 - val_accuracy: 0.6500\n",
            "Epoch 47/200\n",
            "45/45 [==============================] - 0s 3ms/step - loss: 0.6040 - accuracy: 0.8022 - val_loss: 1.0634 - val_accuracy: 0.6600\n",
            "Epoch 48/200\n",
            "45/45 [==============================] - 0s 3ms/step - loss: 0.5981 - accuracy: 0.8044 - val_loss: 1.0525 - val_accuracy: 0.6500\n",
            "Epoch 49/200\n",
            "45/45 [==============================] - 0s 3ms/step - loss: 0.5909 - accuracy: 0.8000 - val_loss: 1.0556 - val_accuracy: 0.6500\n",
            "Epoch 50/200\n",
            "45/45 [==============================] - 0s 3ms/step - loss: 0.5833 - accuracy: 0.8056 - val_loss: 1.0452 - val_accuracy: 0.6500\n",
            "Epoch 51/200\n",
            "45/45 [==============================] - 0s 3ms/step - loss: 0.5752 - accuracy: 0.8144 - val_loss: 1.0638 - val_accuracy: 0.6700\n",
            "Epoch 52/200\n",
            "45/45 [==============================] - 0s 3ms/step - loss: 0.5682 - accuracy: 0.8156 - val_loss: 1.0765 - val_accuracy: 0.6700\n",
            "Epoch 53/200\n",
            "45/45 [==============================] - 0s 3ms/step - loss: 0.5615 - accuracy: 0.8233 - val_loss: 1.0468 - val_accuracy: 0.6600\n",
            "Epoch 54/200\n",
            "45/45 [==============================] - 0s 3ms/step - loss: 0.5536 - accuracy: 0.8211 - val_loss: 1.0693 - val_accuracy: 0.6700\n",
            "Epoch 55/200\n",
            "45/45 [==============================] - 0s 3ms/step - loss: 0.5485 - accuracy: 0.8189 - val_loss: 1.0572 - val_accuracy: 0.6500\n",
            "Epoch 56/200\n",
            "45/45 [==============================] - 0s 3ms/step - loss: 0.5394 - accuracy: 0.8311 - val_loss: 1.0459 - val_accuracy: 0.6700\n",
            "Epoch 57/200\n",
            "45/45 [==============================] - 0s 3ms/step - loss: 0.5348 - accuracy: 0.8256 - val_loss: 1.0552 - val_accuracy: 0.6600\n",
            "Epoch 58/200\n",
            "45/45 [==============================] - 0s 3ms/step - loss: 0.5298 - accuracy: 0.8267 - val_loss: 1.0432 - val_accuracy: 0.6600\n",
            "Epoch 59/200\n",
            "45/45 [==============================] - 0s 3ms/step - loss: 0.5201 - accuracy: 0.8311 - val_loss: 1.0414 - val_accuracy: 0.6700\n",
            "Epoch 60/200\n",
            "45/45 [==============================] - 0s 3ms/step - loss: 0.5135 - accuracy: 0.8389 - val_loss: 1.0383 - val_accuracy: 0.6700\n",
            "Epoch 61/200\n",
            "45/45 [==============================] - 0s 3ms/step - loss: 0.5064 - accuracy: 0.8333 - val_loss: 1.0412 - val_accuracy: 0.6800\n",
            "Epoch 62/200\n",
            "45/45 [==============================] - 0s 3ms/step - loss: 0.5011 - accuracy: 0.8422 - val_loss: 1.0608 - val_accuracy: 0.6900\n",
            "Epoch 63/200\n",
            "45/45 [==============================] - 0s 3ms/step - loss: 0.4925 - accuracy: 0.8367 - val_loss: 1.0608 - val_accuracy: 0.6900\n",
            "Epoch 64/200\n",
            "45/45 [==============================] - 0s 3ms/step - loss: 0.4878 - accuracy: 0.8422 - val_loss: 1.0532 - val_accuracy: 0.6800\n",
            "Epoch 65/200\n",
            "45/45 [==============================] - 0s 3ms/step - loss: 0.4813 - accuracy: 0.8489 - val_loss: 1.0658 - val_accuracy: 0.6900\n",
            "Epoch 66/200\n",
            "45/45 [==============================] - 0s 3ms/step - loss: 0.4767 - accuracy: 0.8456 - val_loss: 1.0548 - val_accuracy: 0.6900\n",
            "Epoch 67/200\n",
            "45/45 [==============================] - 0s 3ms/step - loss: 0.4686 - accuracy: 0.8544 - val_loss: 1.0607 - val_accuracy: 0.6700\n",
            "Epoch 68/200\n",
            "45/45 [==============================] - 0s 3ms/step - loss: 0.4646 - accuracy: 0.8522 - val_loss: 1.0578 - val_accuracy: 0.6900\n",
            "Epoch 69/200\n",
            "45/45 [==============================] - 0s 3ms/step - loss: 0.4571 - accuracy: 0.8522 - val_loss: 1.0252 - val_accuracy: 0.6800\n",
            "Epoch 70/200\n",
            "45/45 [==============================] - 0s 3ms/step - loss: 0.4521 - accuracy: 0.8578 - val_loss: 1.0577 - val_accuracy: 0.6800\n",
            "Epoch 71/200\n",
            "45/45 [==============================] - 0s 3ms/step - loss: 0.4431 - accuracy: 0.8522 - val_loss: 1.0532 - val_accuracy: 0.7000\n",
            "Epoch 72/200\n",
            "45/45 [==============================] - 0s 3ms/step - loss: 0.4399 - accuracy: 0.8633 - val_loss: 1.0524 - val_accuracy: 0.7100\n",
            "Epoch 73/200\n",
            "45/45 [==============================] - 0s 3ms/step - loss: 0.4306 - accuracy: 0.8656 - val_loss: 1.0691 - val_accuracy: 0.6900\n",
            "Epoch 74/200\n",
            "45/45 [==============================] - 0s 3ms/step - loss: 0.4262 - accuracy: 0.8667 - val_loss: 1.0909 - val_accuracy: 0.6800\n",
            "Epoch 75/200\n",
            "45/45 [==============================] - 0s 3ms/step - loss: 0.4228 - accuracy: 0.8656 - val_loss: 1.0388 - val_accuracy: 0.6800\n",
            "Epoch 76/200\n",
            "45/45 [==============================] - 0s 3ms/step - loss: 0.4161 - accuracy: 0.8733 - val_loss: 1.0719 - val_accuracy: 0.7000\n",
            "Epoch 77/200\n",
            "45/45 [==============================] - 0s 3ms/step - loss: 0.4092 - accuracy: 0.8700 - val_loss: 1.0455 - val_accuracy: 0.6900\n",
            "Epoch 78/200\n",
            "45/45 [==============================] - 0s 3ms/step - loss: 0.4061 - accuracy: 0.8744 - val_loss: 1.0622 - val_accuracy: 0.6900\n",
            "Epoch 79/200\n",
            "45/45 [==============================] - 0s 3ms/step - loss: 0.3992 - accuracy: 0.8800 - val_loss: 1.0569 - val_accuracy: 0.6900\n",
            "Epoch 80/200\n",
            "45/45 [==============================] - 0s 3ms/step - loss: 0.3934 - accuracy: 0.8756 - val_loss: 1.0642 - val_accuracy: 0.6900\n",
            "Epoch 81/200\n",
            "45/45 [==============================] - 0s 3ms/step - loss: 0.3875 - accuracy: 0.8744 - val_loss: 1.0552 - val_accuracy: 0.7200\n",
            "Epoch 82/200\n",
            "45/45 [==============================] - 0s 3ms/step - loss: 0.3837 - accuracy: 0.8856 - val_loss: 1.0622 - val_accuracy: 0.6900\n",
            "Epoch 83/200\n",
            "45/45 [==============================] - 0s 3ms/step - loss: 0.3751 - accuracy: 0.8900 - val_loss: 1.0411 - val_accuracy: 0.7000\n",
            "Epoch 84/200\n",
            "45/45 [==============================] - 0s 3ms/step - loss: 0.3711 - accuracy: 0.8911 - val_loss: 1.0934 - val_accuracy: 0.7000\n",
            "Epoch 85/200\n",
            "45/45 [==============================] - 0s 3ms/step - loss: 0.3670 - accuracy: 0.8878 - val_loss: 1.0793 - val_accuracy: 0.6900\n",
            "Epoch 86/200\n",
            "45/45 [==============================] - 0s 3ms/step - loss: 0.3574 - accuracy: 0.8933 - val_loss: 1.0776 - val_accuracy: 0.7000\n",
            "Epoch 87/200\n",
            "45/45 [==============================] - 0s 3ms/step - loss: 0.3544 - accuracy: 0.8978 - val_loss: 1.0963 - val_accuracy: 0.7000\n",
            "Epoch 88/200\n",
            "45/45 [==============================] - 0s 3ms/step - loss: 0.3494 - accuracy: 0.9000 - val_loss: 1.0806 - val_accuracy: 0.7100\n",
            "Epoch 89/200\n",
            "45/45 [==============================] - 0s 3ms/step - loss: 0.3466 - accuracy: 0.8978 - val_loss: 1.0976 - val_accuracy: 0.7000\n",
            "Epoch 90/200\n",
            "45/45 [==============================] - 0s 3ms/step - loss: 0.3399 - accuracy: 0.9044 - val_loss: 1.0846 - val_accuracy: 0.7000\n",
            "Epoch 91/200\n",
            "45/45 [==============================] - 0s 3ms/step - loss: 0.3355 - accuracy: 0.9078 - val_loss: 1.0851 - val_accuracy: 0.7100\n",
            "Epoch 92/200\n",
            "45/45 [==============================] - 0s 3ms/step - loss: 0.3277 - accuracy: 0.9078 - val_loss: 1.1130 - val_accuracy: 0.6900\n",
            "Epoch 93/200\n",
            "45/45 [==============================] - 0s 3ms/step - loss: 0.3254 - accuracy: 0.9022 - val_loss: 1.1102 - val_accuracy: 0.6900\n",
            "Epoch 94/200\n",
            "45/45 [==============================] - 0s 3ms/step - loss: 0.3194 - accuracy: 0.9144 - val_loss: 1.0903 - val_accuracy: 0.7100\n",
            "Epoch 95/200\n",
            "45/45 [==============================] - 0s 3ms/step - loss: 0.3121 - accuracy: 0.9189 - val_loss: 1.1051 - val_accuracy: 0.7100\n",
            "Epoch 96/200\n",
            "45/45 [==============================] - 0s 3ms/step - loss: 0.3103 - accuracy: 0.9133 - val_loss: 1.1055 - val_accuracy: 0.6900\n",
            "Epoch 97/200\n",
            "45/45 [==============================] - 0s 3ms/step - loss: 0.3047 - accuracy: 0.9178 - val_loss: 1.1103 - val_accuracy: 0.7100\n",
            "Epoch 98/200\n",
            "45/45 [==============================] - 0s 3ms/step - loss: 0.2982 - accuracy: 0.9256 - val_loss: 1.0908 - val_accuracy: 0.6900\n",
            "Epoch 99/200\n",
            "45/45 [==============================] - 0s 3ms/step - loss: 0.2938 - accuracy: 0.9289 - val_loss: 1.1347 - val_accuracy: 0.7000\n",
            "Epoch 100/200\n",
            "45/45 [==============================] - 0s 3ms/step - loss: 0.2879 - accuracy: 0.9322 - val_loss: 1.0984 - val_accuracy: 0.6800\n",
            "Epoch 101/200\n",
            "45/45 [==============================] - 0s 3ms/step - loss: 0.2858 - accuracy: 0.9289 - val_loss: 1.1270 - val_accuracy: 0.6800\n",
            "Epoch 102/200\n",
            "45/45 [==============================] - 0s 3ms/step - loss: 0.2805 - accuracy: 0.9333 - val_loss: 1.1217 - val_accuracy: 0.6600\n",
            "Epoch 103/200\n",
            "45/45 [==============================] - 0s 3ms/step - loss: 0.2736 - accuracy: 0.9378 - val_loss: 1.1331 - val_accuracy: 0.7000\n",
            "Epoch 104/200\n",
            "45/45 [==============================] - 0s 3ms/step - loss: 0.2714 - accuracy: 0.9344 - val_loss: 1.1211 - val_accuracy: 0.6800\n",
            "Epoch 105/200\n",
            "45/45 [==============================] - 0s 3ms/step - loss: 0.2665 - accuracy: 0.9400 - val_loss: 1.1386 - val_accuracy: 0.6900\n",
            "Epoch 106/200\n",
            "45/45 [==============================] - 0s 3ms/step - loss: 0.2588 - accuracy: 0.9478 - val_loss: 1.1550 - val_accuracy: 0.6800\n",
            "Epoch 107/200\n",
            "45/45 [==============================] - 0s 3ms/step - loss: 0.2564 - accuracy: 0.9444 - val_loss: 1.1246 - val_accuracy: 0.7000\n",
            "Epoch 108/200\n",
            "45/45 [==============================] - 0s 3ms/step - loss: 0.2511 - accuracy: 0.9489 - val_loss: 1.1516 - val_accuracy: 0.6900\n",
            "Epoch 109/200\n",
            "45/45 [==============================] - 0s 3ms/step - loss: 0.2465 - accuracy: 0.9467 - val_loss: 1.1708 - val_accuracy: 0.6500\n",
            "Epoch 110/200\n",
            "45/45 [==============================] - 0s 3ms/step - loss: 0.2433 - accuracy: 0.9444 - val_loss: 1.1414 - val_accuracy: 0.6800\n",
            "Epoch 111/200\n",
            "45/45 [==============================] - 0s 3ms/step - loss: 0.2391 - accuracy: 0.9422 - val_loss: 1.1620 - val_accuracy: 0.6800\n",
            "Epoch 112/200\n",
            "45/45 [==============================] - 0s 3ms/step - loss: 0.2350 - accuracy: 0.9478 - val_loss: 1.1536 - val_accuracy: 0.6900\n",
            "Epoch 113/200\n",
            "45/45 [==============================] - 0s 3ms/step - loss: 0.2297 - accuracy: 0.9511 - val_loss: 1.1635 - val_accuracy: 0.7000\n",
            "Epoch 114/200\n",
            "45/45 [==============================] - 0s 3ms/step - loss: 0.2267 - accuracy: 0.9500 - val_loss: 1.1690 - val_accuracy: 0.6900\n",
            "Epoch 115/200\n",
            "45/45 [==============================] - 0s 3ms/step - loss: 0.2202 - accuracy: 0.9567 - val_loss: 1.1622 - val_accuracy: 0.6900\n",
            "Epoch 116/200\n",
            "45/45 [==============================] - 0s 3ms/step - loss: 0.2171 - accuracy: 0.9544 - val_loss: 1.1600 - val_accuracy: 0.7100\n",
            "Epoch 117/200\n",
            "45/45 [==============================] - 0s 3ms/step - loss: 0.2123 - accuracy: 0.9600 - val_loss: 1.1728 - val_accuracy: 0.6800\n",
            "Epoch 118/200\n",
            "45/45 [==============================] - 0s 3ms/step - loss: 0.2076 - accuracy: 0.9578 - val_loss: 1.1782 - val_accuracy: 0.6900\n",
            "Epoch 119/200\n",
            "45/45 [==============================] - 0s 3ms/step - loss: 0.2036 - accuracy: 0.9633 - val_loss: 1.1979 - val_accuracy: 0.6900\n",
            "Epoch 120/200\n",
            "45/45 [==============================] - 0s 3ms/step - loss: 0.2018 - accuracy: 0.9656 - val_loss: 1.1992 - val_accuracy: 0.6900\n",
            "Epoch 121/200\n",
            "45/45 [==============================] - 0s 3ms/step - loss: 0.1960 - accuracy: 0.9633 - val_loss: 1.1822 - val_accuracy: 0.6800\n",
            "Epoch 122/200\n",
            "45/45 [==============================] - 0s 3ms/step - loss: 0.1934 - accuracy: 0.9689 - val_loss: 1.2151 - val_accuracy: 0.6900\n",
            "Epoch 123/200\n",
            "45/45 [==============================] - 0s 3ms/step - loss: 0.1867 - accuracy: 0.9644 - val_loss: 1.2174 - val_accuracy: 0.6800\n",
            "Epoch 124/200\n",
            "45/45 [==============================] - 0s 3ms/step - loss: 0.1856 - accuracy: 0.9689 - val_loss: 1.1987 - val_accuracy: 0.6800\n",
            "Epoch 125/200\n",
            "45/45 [==============================] - 0s 3ms/step - loss: 0.1843 - accuracy: 0.9667 - val_loss: 1.2002 - val_accuracy: 0.7000\n",
            "Epoch 126/200\n",
            "45/45 [==============================] - 0s 3ms/step - loss: 0.1781 - accuracy: 0.9722 - val_loss: 1.2071 - val_accuracy: 0.6900\n",
            "Epoch 127/200\n",
            "45/45 [==============================] - 0s 3ms/step - loss: 0.1744 - accuracy: 0.9700 - val_loss: 1.2392 - val_accuracy: 0.6800\n",
            "Epoch 128/200\n",
            "45/45 [==============================] - 0s 3ms/step - loss: 0.1696 - accuracy: 0.9722 - val_loss: 1.2200 - val_accuracy: 0.6800\n",
            "Epoch 129/200\n",
            "45/45 [==============================] - 0s 3ms/step - loss: 0.1684 - accuracy: 0.9700 - val_loss: 1.2340 - val_accuracy: 0.7000\n",
            "Epoch 130/200\n",
            "45/45 [==============================] - 0s 3ms/step - loss: 0.1613 - accuracy: 0.9711 - val_loss: 1.2445 - val_accuracy: 0.7000\n",
            "Epoch 131/200\n",
            "45/45 [==============================] - 0s 3ms/step - loss: 0.1580 - accuracy: 0.9756 - val_loss: 1.2724 - val_accuracy: 0.6900\n",
            "Epoch 132/200\n",
            "45/45 [==============================] - 0s 3ms/step - loss: 0.1559 - accuracy: 0.9733 - val_loss: 1.2497 - val_accuracy: 0.6900\n",
            "Epoch 133/200\n",
            "45/45 [==============================] - 0s 3ms/step - loss: 0.1524 - accuracy: 0.9767 - val_loss: 1.2377 - val_accuracy: 0.6800\n",
            "Epoch 134/200\n",
            "45/45 [==============================] - 0s 3ms/step - loss: 0.1502 - accuracy: 0.9711 - val_loss: 1.2601 - val_accuracy: 0.6700\n",
            "Epoch 135/200\n",
            "45/45 [==============================] - 0s 3ms/step - loss: 0.1468 - accuracy: 0.9733 - val_loss: 1.2622 - val_accuracy: 0.7000\n",
            "Epoch 136/200\n",
            "45/45 [==============================] - 0s 3ms/step - loss: 0.1404 - accuracy: 0.9767 - val_loss: 1.2980 - val_accuracy: 0.6700\n",
            "Epoch 137/200\n",
            "45/45 [==============================] - 0s 3ms/step - loss: 0.1392 - accuracy: 0.9789 - val_loss: 1.3133 - val_accuracy: 0.6900\n",
            "Epoch 138/200\n",
            "45/45 [==============================] - 0s 3ms/step - loss: 0.1357 - accuracy: 0.9811 - val_loss: 1.2894 - val_accuracy: 0.6900\n",
            "Epoch 139/200\n",
            "45/45 [==============================] - 0s 3ms/step - loss: 0.1339 - accuracy: 0.9800 - val_loss: 1.2815 - val_accuracy: 0.6700\n",
            "Epoch 140/200\n",
            "45/45 [==============================] - 0s 3ms/step - loss: 0.1288 - accuracy: 0.9800 - val_loss: 1.3014 - val_accuracy: 0.6900\n",
            "Epoch 141/200\n",
            "45/45 [==============================] - 0s 3ms/step - loss: 0.1262 - accuracy: 0.9844 - val_loss: 1.3258 - val_accuracy: 0.6900\n",
            "Epoch 142/200\n",
            "45/45 [==============================] - 0s 3ms/step - loss: 0.1234 - accuracy: 0.9822 - val_loss: 1.2956 - val_accuracy: 0.7000\n",
            "Epoch 143/200\n",
            "45/45 [==============================] - 0s 3ms/step - loss: 0.1213 - accuracy: 0.9822 - val_loss: 1.3029 - val_accuracy: 0.6900\n",
            "Epoch 144/200\n",
            "45/45 [==============================] - 0s 3ms/step - loss: 0.1176 - accuracy: 0.9856 - val_loss: 1.2975 - val_accuracy: 0.6900\n",
            "Epoch 145/200\n",
            "45/45 [==============================] - 0s 3ms/step - loss: 0.1162 - accuracy: 0.9822 - val_loss: 1.3266 - val_accuracy: 0.6700\n",
            "Epoch 146/200\n",
            "45/45 [==============================] - 0s 4ms/step - loss: 0.1133 - accuracy: 0.9811 - val_loss: 1.3353 - val_accuracy: 0.6800\n",
            "Epoch 147/200\n",
            "45/45 [==============================] - 0s 3ms/step - loss: 0.1086 - accuracy: 0.9856 - val_loss: 1.3286 - val_accuracy: 0.6700\n",
            "Epoch 148/200\n",
            "45/45 [==============================] - 0s 3ms/step - loss: 0.1078 - accuracy: 0.9833 - val_loss: 1.3283 - val_accuracy: 0.7000\n",
            "Epoch 149/200\n",
            "45/45 [==============================] - 0s 4ms/step - loss: 0.1037 - accuracy: 0.9822 - val_loss: 1.3468 - val_accuracy: 0.6800\n",
            "Epoch 150/200\n",
            "45/45 [==============================] - 0s 3ms/step - loss: 0.0996 - accuracy: 0.9856 - val_loss: 1.4071 - val_accuracy: 0.6700\n",
            "Epoch 151/200\n",
            "45/45 [==============================] - 0s 3ms/step - loss: 0.0981 - accuracy: 0.9867 - val_loss: 1.3508 - val_accuracy: 0.6700\n",
            "Epoch 152/200\n",
            "45/45 [==============================] - 0s 3ms/step - loss: 0.0951 - accuracy: 0.9889 - val_loss: 1.3727 - val_accuracy: 0.6800\n",
            "Epoch 153/200\n",
            "45/45 [==============================] - 0s 3ms/step - loss: 0.0935 - accuracy: 0.9856 - val_loss: 1.4084 - val_accuracy: 0.6700\n",
            "Epoch 154/200\n",
            "45/45 [==============================] - 0s 3ms/step - loss: 0.0907 - accuracy: 0.9889 - val_loss: 1.3840 - val_accuracy: 0.6700\n",
            "Epoch 155/200\n",
            "45/45 [==============================] - 0s 3ms/step - loss: 0.0865 - accuracy: 0.9889 - val_loss: 1.4527 - val_accuracy: 0.6600\n",
            "Epoch 156/200\n",
            "45/45 [==============================] - 0s 3ms/step - loss: 0.0864 - accuracy: 0.9889 - val_loss: 1.3625 - val_accuracy: 0.6700\n",
            "Epoch 157/200\n",
            "45/45 [==============================] - 0s 3ms/step - loss: 0.0823 - accuracy: 0.9944 - val_loss: 1.4528 - val_accuracy: 0.6700\n",
            "Epoch 158/200\n",
            "45/45 [==============================] - 0s 3ms/step - loss: 0.0821 - accuracy: 0.9889 - val_loss: 1.4191 - val_accuracy: 0.6800\n",
            "Epoch 159/200\n",
            "45/45 [==============================] - 0s 3ms/step - loss: 0.0789 - accuracy: 0.9922 - val_loss: 1.4106 - val_accuracy: 0.6700\n",
            "Epoch 160/200\n",
            "45/45 [==============================] - 0s 4ms/step - loss: 0.0763 - accuracy: 0.9889 - val_loss: 1.4456 - val_accuracy: 0.6800\n",
            "Epoch 161/200\n",
            "45/45 [==============================] - 0s 3ms/step - loss: 0.0744 - accuracy: 0.9911 - val_loss: 1.4141 - val_accuracy: 0.6700\n",
            "Epoch 162/200\n",
            "45/45 [==============================] - 0s 3ms/step - loss: 0.0735 - accuracy: 0.9889 - val_loss: 1.4431 - val_accuracy: 0.6800\n",
            "Epoch 163/200\n",
            "45/45 [==============================] - 0s 3ms/step - loss: 0.0696 - accuracy: 0.9911 - val_loss: 1.4293 - val_accuracy: 0.6700\n",
            "Epoch 164/200\n",
            "45/45 [==============================] - 0s 3ms/step - loss: 0.0675 - accuracy: 0.9933 - val_loss: 1.4303 - val_accuracy: 0.6700\n",
            "Epoch 165/200\n",
            "45/45 [==============================] - 0s 3ms/step - loss: 0.0659 - accuracy: 0.9922 - val_loss: 1.4421 - val_accuracy: 0.6700\n",
            "Epoch 166/200\n",
            "45/45 [==============================] - 0s 3ms/step - loss: 0.0629 - accuracy: 0.9911 - val_loss: 1.4850 - val_accuracy: 0.6700\n",
            "Epoch 167/200\n",
            "45/45 [==============================] - 0s 3ms/step - loss: 0.0602 - accuracy: 0.9967 - val_loss: 1.4795 - val_accuracy: 0.6700\n",
            "Epoch 168/200\n",
            "45/45 [==============================] - 0s 3ms/step - loss: 0.0598 - accuracy: 0.9922 - val_loss: 1.4736 - val_accuracy: 0.6700\n",
            "Epoch 169/200\n",
            "45/45 [==============================] - 0s 3ms/step - loss: 0.0559 - accuracy: 0.9956 - val_loss: 1.4999 - val_accuracy: 0.6700\n",
            "Epoch 170/200\n",
            "45/45 [==============================] - 0s 3ms/step - loss: 0.0558 - accuracy: 0.9956 - val_loss: 1.5025 - val_accuracy: 0.6600\n",
            "Epoch 171/200\n",
            "45/45 [==============================] - 0s 3ms/step - loss: 0.0546 - accuracy: 0.9967 - val_loss: 1.5321 - val_accuracy: 0.6800\n",
            "Epoch 172/200\n",
            "45/45 [==============================] - 0s 3ms/step - loss: 0.0521 - accuracy: 0.9967 - val_loss: 1.5157 - val_accuracy: 0.6600\n",
            "Epoch 173/200\n",
            "45/45 [==============================] - 0s 3ms/step - loss: 0.0500 - accuracy: 0.9956 - val_loss: 1.5045 - val_accuracy: 0.6600\n",
            "Epoch 174/200\n",
            "45/45 [==============================] - 0s 3ms/step - loss: 0.0497 - accuracy: 0.9956 - val_loss: 1.5247 - val_accuracy: 0.6600\n",
            "Epoch 175/200\n",
            "45/45 [==============================] - 0s 3ms/step - loss: 0.0471 - accuracy: 0.9978 - val_loss: 1.5387 - val_accuracy: 0.6600\n",
            "Epoch 176/200\n",
            "45/45 [==============================] - 0s 3ms/step - loss: 0.0449 - accuracy: 0.9978 - val_loss: 1.5693 - val_accuracy: 0.6600\n",
            "Epoch 177/200\n",
            "45/45 [==============================] - 0s 3ms/step - loss: 0.0438 - accuracy: 0.9978 - val_loss: 1.5370 - val_accuracy: 0.6600\n",
            "Epoch 178/200\n",
            "45/45 [==============================] - 0s 3ms/step - loss: 0.0440 - accuracy: 0.9989 - val_loss: 1.5689 - val_accuracy: 0.6700\n",
            "Epoch 179/200\n",
            "45/45 [==============================] - 0s 3ms/step - loss: 0.0409 - accuracy: 0.9989 - val_loss: 1.5686 - val_accuracy: 0.6600\n",
            "Epoch 180/200\n",
            "45/45 [==============================] - 0s 3ms/step - loss: 0.0387 - accuracy: 0.9978 - val_loss: 1.5773 - val_accuracy: 0.6700\n",
            "Epoch 181/200\n",
            "45/45 [==============================] - 0s 3ms/step - loss: 0.0391 - accuracy: 0.9978 - val_loss: 1.5326 - val_accuracy: 0.6700\n",
            "Epoch 182/200\n",
            "45/45 [==============================] - 0s 3ms/step - loss: 0.0366 - accuracy: 0.9978 - val_loss: 1.6021 - val_accuracy: 0.6600\n",
            "Epoch 183/200\n",
            "45/45 [==============================] - 0s 3ms/step - loss: 0.0368 - accuracy: 0.9967 - val_loss: 1.5941 - val_accuracy: 0.6700\n",
            "Epoch 184/200\n",
            "45/45 [==============================] - 0s 3ms/step - loss: 0.0329 - accuracy: 0.9989 - val_loss: 1.6407 - val_accuracy: 0.6800\n",
            "Epoch 185/200\n",
            "45/45 [==============================] - 0s 3ms/step - loss: 0.0323 - accuracy: 0.9989 - val_loss: 1.6418 - val_accuracy: 0.6700\n",
            "Epoch 186/200\n",
            "45/45 [==============================] - 0s 3ms/step - loss: 0.0313 - accuracy: 0.9989 - val_loss: 1.6413 - val_accuracy: 0.6600\n",
            "Epoch 187/200\n",
            "45/45 [==============================] - 0s 3ms/step - loss: 0.0303 - accuracy: 0.9989 - val_loss: 1.6478 - val_accuracy: 0.6700\n",
            "Epoch 188/200\n",
            "45/45 [==============================] - 0s 3ms/step - loss: 0.0299 - accuracy: 0.9989 - val_loss: 1.6580 - val_accuracy: 0.6700\n",
            "Epoch 189/200\n",
            "45/45 [==============================] - 0s 3ms/step - loss: 0.0281 - accuracy: 0.9989 - val_loss: 1.6230 - val_accuracy: 0.6900\n",
            "Epoch 190/200\n",
            "45/45 [==============================] - 0s 3ms/step - loss: 0.0276 - accuracy: 0.9978 - val_loss: 1.6614 - val_accuracy: 0.6700\n",
            "Epoch 191/200\n",
            "45/45 [==============================] - 0s 3ms/step - loss: 0.0263 - accuracy: 0.9978 - val_loss: 1.6910 - val_accuracy: 0.6700\n",
            "Epoch 192/200\n",
            "45/45 [==============================] - 0s 3ms/step - loss: 0.0265 - accuracy: 0.9967 - val_loss: 1.6956 - val_accuracy: 0.6700\n",
            "Epoch 193/200\n",
            "45/45 [==============================] - 0s 3ms/step - loss: 0.0229 - accuracy: 0.9989 - val_loss: 1.7418 - val_accuracy: 0.6700\n",
            "Epoch 194/200\n",
            "45/45 [==============================] - 0s 3ms/step - loss: 0.0229 - accuracy: 0.9978 - val_loss: 1.6989 - val_accuracy: 0.6600\n",
            "Epoch 195/200\n",
            "45/45 [==============================] - 0s 3ms/step - loss: 0.0232 - accuracy: 0.9989 - val_loss: 1.7093 - val_accuracy: 0.6800\n",
            "Epoch 196/200\n",
            "45/45 [==============================] - 0s 3ms/step - loss: 0.0215 - accuracy: 0.9978 - val_loss: 1.7174 - val_accuracy: 0.6700\n",
            "Epoch 197/200\n",
            "45/45 [==============================] - 0s 3ms/step - loss: 0.0208 - accuracy: 0.9989 - val_loss: 1.7054 - val_accuracy: 0.6600\n",
            "Epoch 198/200\n",
            "45/45 [==============================] - 0s 3ms/step - loss: 0.0209 - accuracy: 0.9978 - val_loss: 1.7923 - val_accuracy: 0.6900\n",
            "Epoch 199/200\n",
            "45/45 [==============================] - 0s 3ms/step - loss: 0.0212 - accuracy: 0.9978 - val_loss: 1.7542 - val_accuracy: 0.6700\n",
            "Epoch 200/200\n",
            "45/45 [==============================] - 0s 3ms/step - loss: 0.0185 - accuracy: 0.9978 - val_loss: 1.8250 - val_accuracy: 0.6700\n"
          ]
        },
        {
          "output_type": "display_data",
          "data": {
            "text/plain": [
              "<Figure size 432x288 with 1 Axes>"
            ],
            "image/png": "[encoded data removed]"
          },
          "metadata": {
            "needs_background": "light"
          }
        }
      ]
    }
  ]
}