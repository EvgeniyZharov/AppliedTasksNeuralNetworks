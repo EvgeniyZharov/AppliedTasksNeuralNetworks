{
  "nbformat": 4,
  "nbformat_minor": 0,
  "metadata": {
    "colab": {
      "provenance": []
    },
    "kernelspec": {
      "name": "python3",
      "display_name": "Python 3"
    },
    "language_info": {
      "name": "python"
    }
  },
  "cells": [
    {
      "cell_type": "markdown",
      "source": [
        "Добейтесь точности распознавания жанров музыки не менее 79% стабильно на последних эпохах обучения. \n",
        "\n",
        "Используйте разбивку 900 записей на обучающую выборку и 100 на проверочную."
      ],
      "metadata": {
        "id": "sEp5bMANpFBN"
      }
    },
    {
      "cell_type": "markdown",
      "metadata": {
        "id": "f_tJwLZvoMmp"
      },
      "source": [
        "# Импорт библиотек"
      ]
    },
    {
      "cell_type": "code",
      "metadata": {
        "id": "r24zKLNloHh4"
      },
      "source": [
        "from google.colab import files, drive\n",
        "from tensorflow.keras.utils import to_categorical\n",
        "import os\n",
        "import librosa\n",
        "import numpy as np\n",
        "import matplotlib.pyplot as plt\n",
        "\n",
        "from tensorflow.keras.optimizers import Adam, RMSprop\n",
        "from tensorflow.keras.models import Sequential, Model\n",
        "from tensorflow.keras.layers import concatenate, Input, Dense, Dropout, BatchNormalization, Flatten, Conv1D, Conv2D, LSTM\n",
        "from sklearn.model_selection import train_test_split\n",
        "from sklearn.preprocessing import LabelEncoder, StandardScaler"
      ],
      "execution_count": null,
      "outputs": []
    },
    {
      "cell_type": "markdown",
      "metadata": {
        "id": "eDWw4AdJpC4s"
      },
      "source": [
        "# Подключение к Диску и импорт данных"
      ]
    },
    {
      "cell_type": "code",
      "metadata": {
        "colab": {
          "base_uri": "https://localhost:8080/"
        },
        "id": "XuqtaPjGoa-0",
        "outputId": "6ca0562b-6306-4146-d541-1980e1f4233a"
      },
      "source": [
        "drive.mount('/content/drive')\n",
        "!unzip -q '/content/drive/MyDrive/Lessons/Lesson8/genres.zip'\n",
        "genres = os.listdir('genres')\n",
        "!ls genres \n",
        "!ls genres/blues"
      ],
      "execution_count": null,
      "outputs": [
        {
          "output_type": "stream",
          "name": "stdout",
          "text": [
            "Mounted at /content/drive\n",
            "blues  classical  country  disco  hiphop  jazz\tmetal  pop  reggae  rock\n",
            "blues.00000.au\tblues.00020.au\tblues.00040.au\tblues.00060.au\tblues.00080.au\n",
            "blues.00001.au\tblues.00021.au\tblues.00041.au\tblues.00061.au\tblues.00081.au\n",
            "blues.00002.au\tblues.00022.au\tblues.00042.au\tblues.00062.au\tblues.00082.au\n",
            "blues.00003.au\tblues.00023.au\tblues.00043.au\tblues.00063.au\tblues.00083.au\n",
            "blues.00004.au\tblues.00024.au\tblues.00044.au\tblues.00064.au\tblues.00084.au\n",
            "blues.00005.au\tblues.00025.au\tblues.00045.au\tblues.00065.au\tblues.00085.au\n",
            "blues.00006.au\tblues.00026.au\tblues.00046.au\tblues.00066.au\tblues.00086.au\n",
            "blues.00007.au\tblues.00027.au\tblues.00047.au\tblues.00067.au\tblues.00087.au\n",
            "blues.00008.au\tblues.00028.au\tblues.00048.au\tblues.00068.au\tblues.00088.au\n",
            "blues.00009.au\tblues.00029.au\tblues.00049.au\tblues.00069.au\tblues.00089.au\n",
            "blues.00010.au\tblues.00030.au\tblues.00050.au\tblues.00070.au\tblues.00090.au\n",
            "blues.00011.au\tblues.00031.au\tblues.00051.au\tblues.00071.au\tblues.00091.au\n",
            "blues.00012.au\tblues.00032.au\tblues.00052.au\tblues.00072.au\tblues.00092.au\n",
            "blues.00013.au\tblues.00033.au\tblues.00053.au\tblues.00073.au\tblues.00093.au\n",
            "blues.00014.au\tblues.00034.au\tblues.00054.au\tblues.00074.au\tblues.00094.au\n",
            "blues.00015.au\tblues.00035.au\tblues.00055.au\tblues.00075.au\tblues.00095.au\n",
            "blues.00016.au\tblues.00036.au\tblues.00056.au\tblues.00076.au\tblues.00096.au\n",
            "blues.00017.au\tblues.00037.au\tblues.00057.au\tblues.00077.au\tblues.00097.au\n",
            "blues.00018.au\tblues.00038.au\tblues.00058.au\tblues.00078.au\tblues.00098.au\n",
            "blues.00019.au\tblues.00039.au\tblues.00059.au\tblues.00079.au\tblues.00099.au\n"
          ]
        }
      ]
    },
    {
      "cell_type": "markdown",
      "metadata": {
        "id": "TFNlh_17pPej"
      },
      "source": [
        "# Функции для работы с аудиозаписями"
      ]
    },
    {
      "cell_type": "code",
      "metadata": {
        "id": "nZjPMTqcpSqJ"
      },
      "source": [
        "def get_features(y, sr):\n",
        "  chroma_stft = librosa.feature.chroma_stft(y=y, sr=sr)\n",
        "  mfcc = librosa.feature.mfcc(y=y, sr=sr)\n",
        "  \n",
        "  rmse = np.mean(librosa.feature.rms(y=y))\n",
        "  spec_cent = np.mean(librosa.feature.spectral_centroid(y=y, sr=sr))\n",
        "  spec_bw = np.mean(librosa.feature.spectral_bandwidth(y=y, sr=sr))\n",
        "  rolloff = np.mean(librosa.feature.spectral_rolloff(y=y, sr=sr))\n",
        "  zcr = np.mean(librosa.feature.zero_crossing_rate(y))\n",
        "  \n",
        "  out = []\n",
        "  out.append(rmse)\n",
        "  out.append(spec_cent)\n",
        "  out.append(spec_bw)\n",
        "  out.append(rolloff)\n",
        "  out.append(zcr)\n",
        "\n",
        "  for e in mfcc:\n",
        "    out.append(np.mean(e))\n",
        "\n",
        "  for e in chroma_stft:\n",
        "    out.append(np.mean(e))\n",
        "  \n",
        "  return out"
      ],
      "execution_count": null,
      "outputs": []
    },
    {
      "cell_type": "markdown",
      "metadata": {
        "id": "EU3WSsVlz7LF"
      },
      "source": [
        " # Подготовка данных для обучения"
      ]
    },
    {
      "cell_type": "code",
      "metadata": {
        "colab": {
          "base_uri": "https://localhost:8080/"
        },
        "id": "XCOKbqm5ptV6",
        "outputId": "e5ecee69-a38f-4ccb-bf57-d513931b6831"
      },
      "source": [
        "import time\n",
        "\n",
        "X_train = []\n",
        "Y_train = []\n",
        "\n",
        "curr_time = time.time()\n",
        "\n",
        "for i in range(len(genres)):\n",
        "  g = genres[i]\n",
        "  for filename in os.listdir(f'./genres/{g}'):\n",
        "    songname = f'./genres/{g}/{filename}'\n",
        "    y, sr = librosa.load(songname, mono=True, duration=30)\n",
        "    out = get_features(y, sr)\n",
        "    \n",
        "    X_train.append(out)\n",
        "    Y_train.append(to_categorical(i, len(genres)))\n",
        "\n",
        "  print(\"Жанр \", g, \" готов -> \", round(time.time() - curr_time), \"c\", sep=\"\")\n",
        "  curr_time = time.time()\n",
        "\n",
        "X_train = np.array(X_train)\n",
        "Y_train = np.array(Y_train)"
      ],
      "execution_count": null,
      "outputs": [
        {
          "output_type": "stream",
          "name": "stdout",
          "text": [
            "Жанр reggae готов -> 41c\n",
            "Жанр classical готов -> 40c\n",
            "Жанр pop готов -> 41c\n",
            "Жанр disco готов -> 40c\n",
            "Жанр rock готов -> 45c\n",
            "Жанр country готов -> 40c\n",
            "Жанр hiphop готов -> 40c\n",
            "Жанр blues готов -> 40c\n",
            "Жанр metal готов -> 41c\n",
            "Жанр jazz готов -> 41c\n"
          ]
        }
      ]
    },
    {
      "cell_type": "code",
      "metadata": {
        "id": "np2zNAPgqBXT"
      },
      "source": [
        "X_train_backup = X_train.copy()\n",
        "Y_train_backup = Y_train.copy()"
      ],
      "execution_count": null,
      "outputs": []
    },
    {
      "cell_type": "code",
      "metadata": {
        "colab": {
          "base_uri": "https://localhost:8080/"
        },
        "id": "pJ2CfNT9qEqJ",
        "outputId": "6b06519e-ed37-4505-faf4-256668fdc86e"
      },
      "source": [
        "y_train_class = np.argmax(Y_train, axis=1)\n",
        "print(y_train_class)"
      ],
      "execution_count": null,
      "outputs": [
        {
          "output_type": "stream",
          "name": "stdout",
          "text": [
            "[0 0 0 0 0 0 0 0 0 0 0 0 0 0 0 0 0 0 0 0 0 0 0 0 0 0 0 0 0 0 0 0 0 0 0 0 0\n",
            " 0 0 0 0 0 0 0 0 0 0 0 0 0 0 0 0 0 0 0 0 0 0 0 0 0 0 0 0 0 0 0 0 0 0 0 0 0\n",
            " 0 0 0 0 0 0 0 0 0 0 0 0 0 0 0 0 0 0 0 0 0 0 0 0 0 0 1 1 1 1 1 1 1 1 1 1 1\n",
            " 1 1 1 1 1 1 1 1 1 1 1 1 1 1 1 1 1 1 1 1 1 1 1 1 1 1 1 1 1 1 1 1 1 1 1 1 1\n",
            " 1 1 1 1 1 1 1 1 1 1 1 1 1 1 1 1 1 1 1 1 1 1 1 1 1 1 1 1 1 1 1 1 1 1 1 1 1\n",
            " 1 1 1 1 1 1 1 1 1 1 1 1 1 1 1 2 2 2 2 2 2 2 2 2 2 2 2 2 2 2 2 2 2 2 2 2 2\n",
            " 2 2 2 2 2 2 2 2 2 2 2 2 2 2 2 2 2 2 2 2 2 2 2 2 2 2 2 2 2 2 2 2 2 2 2 2 2\n",
            " 2 2 2 2 2 2 2 2 2 2 2 2 2 2 2 2 2 2 2 2 2 2 2 2 2 2 2 2 2 2 2 2 2 2 2 2 2\n",
            " 2 2 2 2 3 3 3 3 3 3 3 3 3 3 3 3 3 3 3 3 3 3 3 3 3 3 3 3 3 3 3 3 3 3 3 3 3\n",
            " 3 3 3 3 3 3 3 3 3 3 3 3 3 3 3 3 3 3 3 3 3 3 3 3 3 3 3 3 3 3 3 3 3 3 3 3 3\n",
            " 3 3 3 3 3 3 3 3 3 3 3 3 3 3 3 3 3 3 3 3 3 3 3 3 3 3 3 3 3 3 4 4 4 4 4 4 4\n",
            " 4 4 4 4 4 4 4 4 4 4 4 4 4 4 4 4 4 4 4 4 4 4 4 4 4 4 4 4 4 4 4 4 4 4 4 4 4\n",
            " 4 4 4 4 4 4 4 4 4 4 4 4 4 4 4 4 4 4 4 4 4 4 4 4 4 4 4 4 4 4 4 4 4 4 4 4 4\n",
            " 4 4 4 4 4 4 4 4 4 4 4 4 4 4 4 4 4 4 4 5 5 5 5 5 5 5 5 5 5 5 5 5 5 5 5 5 5\n",
            " 5 5 5 5 5 5 5 5 5 5 5 5 5 5 5 5 5 5 5 5 5 5 5 5 5 5 5 5 5 5 5 5 5 5 5 5 5\n",
            " 5 5 5 5 5 5 5 5 5 5 5 5 5 5 5 5 5 5 5 5 5 5 5 5 5 5 5 5 5 5 5 5 5 5 5 5 5\n",
            " 5 5 5 5 5 5 5 5 6 6 6 6 6 6 6 6 6 6 6 6 6 6 6 6 6 6 6 6 6 6 6 6 6 6 6 6 6\n",
            " 6 6 6 6 6 6 6 6 6 6 6 6 6 6 6 6 6 6 6 6 6 6 6 6 6 6 6 6 6 6 6 6 6 6 6 6 6\n",
            " 6 6 6 6 6 6 6 6 6 6 6 6 6 6 6 6 6 6 6 6 6 6 6 6 6 6 6 6 6 6 6 6 6 6 7 7 7\n",
            " 7 7 7 7 7 7 7 7 7 7 7 7 7 7 7 7 7 7 7 7 7 7 7 7 7 7 7 7 7 7 7 7 7 7 7 7 7\n",
            " 7 7 7 7 7 7 7 7 7 7 7 7 7 7 7 7 7 7 7 7 7 7 7 7 7 7 7 7 7 7 7 7 7 7 7 7 7\n",
            " 7 7 7 7 7 7 7 7 7 7 7 7 7 7 7 7 7 7 7 7 7 7 7 8 8 8 8 8 8 8 8 8 8 8 8 8 8\n",
            " 8 8 8 8 8 8 8 8 8 8 8 8 8 8 8 8 8 8 8 8 8 8 8 8 8 8 8 8 8 8 8 8 8 8 8 8 8\n",
            " 8 8 8 8 8 8 8 8 8 8 8 8 8 8 8 8 8 8 8 8 8 8 8 8 8 8 8 8 8 8 8 8 8 8 8 8 8\n",
            " 8 8 8 8 8 8 8 8 8 8 8 8 9 9 9 9 9 9 9 9 9 9 9 9 9 9 9 9 9 9 9 9 9 9 9 9 9\n",
            " 9 9 9 9 9 9 9 9 9 9 9 9 9 9 9 9 9 9 9 9 9 9 9 9 9 9 9 9 9 9 9 9 9 9 9 9 9\n",
            " 9 9 9 9 9 9 9 9 9 9 9 9 9 9 9 9 9 9 9 9 9 9 9 9 9 9 9 9 9 9 9 9 9 9 9 9 9\n",
            " 9]\n"
          ]
        }
      ]
    },
    {
      "cell_type": "code",
      "metadata": {
        "colab": {
          "base_uri": "https://localhost:8080/"
        },
        "id": "SswrAx5yqGdd",
        "outputId": "04741433-fea4-4fd5-ffda-daaf6220f54c"
      },
      "source": [
        "print(X_train.shape)\n",
        "print(Y_train.shape)\n",
        "print(y_train_class.shape)"
      ],
      "execution_count": null,
      "outputs": [
        {
          "output_type": "stream",
          "name": "stdout",
          "text": [
            "(1000, 37)\n",
            "(1000, 10)\n",
            "(1000,)\n"
          ]
        }
      ]
    },
    {
      "cell_type": "markdown",
      "metadata": {
        "id": "3TIYnCH30BWa"
      },
      "source": [
        "## Стандартизация"
      ]
    },
    {
      "cell_type": "code",
      "metadata": {
        "colab": {
          "base_uri": "https://localhost:8080/"
        },
        "id": "y_xjlqqcqNH9",
        "outputId": "2673b752-81de-4a64-97cc-577c33d0ec8d"
      },
      "source": [
        "scaler = StandardScaler()\n",
        "\n",
        "X_train = scaler.fit_transform(X_train)\n",
        "print(X_train[0])"
      ],
      "execution_count": null,
      "outputs": [
        {
          "output_type": "stream",
          "name": "stdout",
          "text": [
            "[-0.55960858 -0.09571515  0.08998277  0.14616457 -0.13934326 -0.14946545\n",
            "  0.1690017  -0.06359683 -0.09791871 -0.31264414  1.0290304  -1.6927089\n",
            "  1.27523903 -0.84894984  1.49476875 -0.33503813  0.78050163 -0.85526472\n",
            " -0.07246325 -0.54079374 -0.01601026 -1.15312062  0.71772301  0.41645312\n",
            "  1.26663375 -1.16926596  0.74634203 -0.54389387 -1.05207334  0.20502084\n",
            " -0.04367669  0.53005382 -1.05687871 -0.65357906 -0.12634906 -0.950966\n",
            " -1.06921134]\n"
          ]
        }
      ]
    },
    {
      "cell_type": "code",
      "metadata": {
        "id": "T7_Jfat_qXd_"
      },
      "source": [
        "X_train, X_test, y_train, y_test = train_test_split(X_train, y_train_class, test_size=0.1)"
      ],
      "execution_count": null,
      "outputs": []
    },
    {
      "cell_type": "code",
      "metadata": {
        "colab": {
          "base_uri": "https://localhost:8080/"
        },
        "id": "q_NMAFoPqYn-",
        "outputId": "6358f11c-7242-4f31-b074-1ff27e57327e"
      },
      "source": [
        "print(X_train.shape)\n",
        "print(y_train.shape)\n",
        "print(X_test.shape)\n",
        "print(y_test.shape)"
      ],
      "execution_count": null,
      "outputs": [
        {
          "output_type": "stream",
          "name": "stdout",
          "text": [
            "(900, 37)\n",
            "(900,)\n",
            "(100, 37)\n",
            "(100,)\n"
          ]
        }
      ]
    },
    {
      "cell_type": "markdown",
      "metadata": {
        "id": "yGkY7YA3qdh1"
      },
      "source": [
        "# Подготовка и обучение модели"
      ]
    },
    {
      "cell_type": "code",
      "metadata": {
        "colab": {
          "base_uri": "https://localhost:8080/",
          "height": 1000
        },
        "id": "Sm1ZL07Uqit8",
        "outputId": "34195e8b-865f-4d81-b1b6-e377590a94c0"
      },
      "source": [
        "indexes = range(0,37)\n",
        "\n",
        "model = Sequential()\n",
        "model.add(Dense(64, activation='relu', input_shape=(len(indexes),)))\n",
        "model.add(Dropout(0.2))\n",
        "model.add(BatchNormalization())\n",
        "model.add(Dense(64, activation='relu'))\n",
        "model.add(Dropout(0.1))\n",
        "model.add(BatchNormalization())\n",
        "model.add(Dense(64, activation='relu'))\n",
        "model.add(Dropout(0.1))\n",
        "# model.add(BatchNormalization())\n",
        "model.add(Dense(128, activation='relu'))\n",
        "model.add(Dropout(0.1))\n",
        "# model.add(BatchNormalization())\n",
        "model.add(Dense(128, activation='relu'))\n",
        "model.add(Dropout(0.1))\n",
        "# model.add(BatchNormalization())\n",
        "model.add(Dense(128, activation='relu'))\n",
        "model.add(Dropout(0.1))\n",
        "model.add(Dense(128, activation='relu'))\n",
        "# model.add(Dropout(0.1))\n",
        "# model.add(Dense(64, activation='relu'))\n",
        "# model.add(Dropout(0.1))\n",
        "# model.add(Dense(132, activation='relu'))\n",
        "# model.add(Dropout(0.1))\n",
        "# model.add(Dense(132, activation='relu'))\n",
        "# model.add(Dropout(0.1))\n",
        "model.add(Dense(len(genres), activation='softmax'))\n",
        "\n",
        "model.compile(optimizer=RMSprop(lr=1e-3),\n",
        "              loss='sparse_categorical_crossentropy',\n",
        "              metrics=['accuracy'])\n",
        "\n",
        "history = model.fit(X_train[:, indexes],\n",
        "                    y_train,\n",
        "                    epochs=100,\n",
        "                    batch_size=20,\n",
        "                    validation_data=(X_test[:, indexes], y_test))\n",
        "\n",
        "plt.plot(history.history[\"accuracy\"])\n",
        "plt.plot(history.history[\"val_accuracy\"])\n",
        "plt.show()"
      ],
      "execution_count": null,
      "outputs": [
        {
          "output_type": "stream",
          "name": "stdout",
          "text": [
            "Epoch 1/100\n"
          ]
        },
        {
          "output_type": "stream",
          "name": "stderr",
          "text": [
            "/usr/local/lib/python3.7/dist-packages/keras/optimizer_v2/rmsprop.py:130: UserWarning: The `lr` argument is deprecated, use `learning_rate` instead.\n",
            "  super(RMSprop, self).__init__(name, **kwargs)\n"
          ]
        },
        {
          "output_type": "stream",
          "name": "stdout",
          "text": [
            "45/45 [==============================] - 2s 8ms/step - loss: 2.1296 - accuracy: 0.2222 - val_loss: 1.9808 - val_accuracy: 0.2900\n",
            "Epoch 2/100\n",
            "45/45 [==============================] - 0s 3ms/step - loss: 1.7619 - accuracy: 0.3433 - val_loss: 1.7661 - val_accuracy: 0.3000\n",
            "Epoch 3/100\n",
            "45/45 [==============================] - 0s 4ms/step - loss: 1.6855 - accuracy: 0.3767 - val_loss: 1.6900 - val_accuracy: 0.2900\n",
            "Epoch 4/100\n",
            "45/45 [==============================] - 0s 3ms/step - loss: 1.5894 - accuracy: 0.4167 - val_loss: 1.5911 - val_accuracy: 0.3400\n",
            "Epoch 5/100\n",
            "45/45 [==============================] - 0s 3ms/step - loss: 1.5175 - accuracy: 0.4344 - val_loss: 1.5628 - val_accuracy: 0.3500\n",
            "Epoch 6/100\n",
            "45/45 [==============================] - 0s 3ms/step - loss: 1.5110 - accuracy: 0.4278 - val_loss: 1.4745 - val_accuracy: 0.3900\n",
            "Epoch 7/100\n",
            "45/45 [==============================] - 0s 3ms/step - loss: 1.4305 - accuracy: 0.4578 - val_loss: 1.4324 - val_accuracy: 0.4800\n",
            "Epoch 8/100\n",
            "45/45 [==============================] - 0s 3ms/step - loss: 1.4406 - accuracy: 0.4933 - val_loss: 1.4933 - val_accuracy: 0.4400\n",
            "Epoch 9/100\n",
            "45/45 [==============================] - 0s 4ms/step - loss: 1.3901 - accuracy: 0.4922 - val_loss: 1.4688 - val_accuracy: 0.4500\n",
            "Epoch 10/100\n",
            "45/45 [==============================] - 0s 3ms/step - loss: 1.3282 - accuracy: 0.5167 - val_loss: 1.3275 - val_accuracy: 0.5400\n",
            "Epoch 11/100\n",
            "45/45 [==============================] - 0s 3ms/step - loss: 1.2798 - accuracy: 0.5478 - val_loss: 1.2883 - val_accuracy: 0.5100\n",
            "Epoch 12/100\n",
            "45/45 [==============================] - 0s 3ms/step - loss: 1.3055 - accuracy: 0.5344 - val_loss: 1.3340 - val_accuracy: 0.5400\n",
            "Epoch 13/100\n",
            "45/45 [==============================] - 0s 3ms/step - loss: 1.2843 - accuracy: 0.5511 - val_loss: 1.3921 - val_accuracy: 0.4900\n",
            "Epoch 14/100\n",
            "45/45 [==============================] - 0s 4ms/step - loss: 1.2852 - accuracy: 0.5667 - val_loss: 1.2899 - val_accuracy: 0.5600\n",
            "Epoch 15/100\n",
            "45/45 [==============================] - 0s 3ms/step - loss: 1.2297 - accuracy: 0.5811 - val_loss: 1.3040 - val_accuracy: 0.5600\n",
            "Epoch 16/100\n",
            "45/45 [==============================] - 0s 4ms/step - loss: 1.1922 - accuracy: 0.5722 - val_loss: 1.2427 - val_accuracy: 0.5600\n",
            "Epoch 17/100\n",
            "45/45 [==============================] - 0s 3ms/step - loss: 1.1732 - accuracy: 0.5989 - val_loss: 1.3010 - val_accuracy: 0.5600\n",
            "Epoch 18/100\n",
            "45/45 [==============================] - 0s 4ms/step - loss: 1.1628 - accuracy: 0.5856 - val_loss: 1.2703 - val_accuracy: 0.5900\n",
            "Epoch 19/100\n",
            "45/45 [==============================] - 0s 4ms/step - loss: 1.1588 - accuracy: 0.5989 - val_loss: 1.2492 - val_accuracy: 0.5400\n",
            "Epoch 20/100\n",
            "45/45 [==============================] - 0s 4ms/step - loss: 1.1307 - accuracy: 0.6178 - val_loss: 1.2563 - val_accuracy: 0.5700\n",
            "Epoch 21/100\n",
            "45/45 [==============================] - 0s 3ms/step - loss: 1.1623 - accuracy: 0.5911 - val_loss: 1.3210 - val_accuracy: 0.5400\n",
            "Epoch 22/100\n",
            "45/45 [==============================] - 0s 3ms/step - loss: 1.1051 - accuracy: 0.6289 - val_loss: 1.2724 - val_accuracy: 0.5600\n",
            "Epoch 23/100\n",
            "45/45 [==============================] - 0s 3ms/step - loss: 1.0752 - accuracy: 0.6311 - val_loss: 1.3122 - val_accuracy: 0.5800\n",
            "Epoch 24/100\n",
            "45/45 [==============================] - 0s 3ms/step - loss: 1.1250 - accuracy: 0.6089 - val_loss: 1.2277 - val_accuracy: 0.5700\n",
            "Epoch 25/100\n",
            "45/45 [==============================] - 0s 3ms/step - loss: 1.0759 - accuracy: 0.6311 - val_loss: 1.3116 - val_accuracy: 0.5700\n",
            "Epoch 26/100\n",
            "45/45 [==============================] - 0s 3ms/step - loss: 1.0869 - accuracy: 0.6589 - val_loss: 1.2692 - val_accuracy: 0.6200\n",
            "Epoch 27/100\n",
            "45/45 [==============================] - 0s 4ms/step - loss: 1.0612 - accuracy: 0.6511 - val_loss: 1.3517 - val_accuracy: 0.5700\n",
            "Epoch 28/100\n",
            "45/45 [==============================] - 0s 3ms/step - loss: 1.0334 - accuracy: 0.6389 - val_loss: 1.5113 - val_accuracy: 0.5300\n",
            "Epoch 29/100\n",
            "45/45 [==============================] - 0s 3ms/step - loss: 0.9798 - accuracy: 0.6722 - val_loss: 1.2893 - val_accuracy: 0.5700\n",
            "Epoch 30/100\n",
            "45/45 [==============================] - 0s 4ms/step - loss: 1.0169 - accuracy: 0.6633 - val_loss: 1.3732 - val_accuracy: 0.5800\n",
            "Epoch 31/100\n",
            "45/45 [==============================] - 0s 3ms/step - loss: 1.0331 - accuracy: 0.6478 - val_loss: 1.3906 - val_accuracy: 0.5400\n",
            "Epoch 32/100\n",
            "45/45 [==============================] - 0s 3ms/step - loss: 1.0732 - accuracy: 0.6544 - val_loss: 1.2394 - val_accuracy: 0.5800\n",
            "Epoch 33/100\n",
            "45/45 [==============================] - 0s 4ms/step - loss: 0.9929 - accuracy: 0.6578 - val_loss: 1.2348 - val_accuracy: 0.5900\n",
            "Epoch 34/100\n",
            "45/45 [==============================] - 0s 4ms/step - loss: 0.9540 - accuracy: 0.6778 - val_loss: 1.2743 - val_accuracy: 0.5600\n",
            "Epoch 35/100\n",
            "45/45 [==============================] - 0s 4ms/step - loss: 0.9766 - accuracy: 0.6544 - val_loss: 1.2276 - val_accuracy: 0.5900\n",
            "Epoch 36/100\n",
            "45/45 [==============================] - 0s 4ms/step - loss: 0.9752 - accuracy: 0.6822 - val_loss: 1.2736 - val_accuracy: 0.5700\n",
            "Epoch 37/100\n",
            "45/45 [==============================] - 0s 3ms/step - loss: 0.9656 - accuracy: 0.6922 - val_loss: 1.2337 - val_accuracy: 0.6100\n",
            "Epoch 38/100\n",
            "45/45 [==============================] - 0s 4ms/step - loss: 0.9161 - accuracy: 0.6778 - val_loss: 1.3641 - val_accuracy: 0.5700\n",
            "Epoch 39/100\n",
            "45/45 [==============================] - 0s 3ms/step - loss: 0.9416 - accuracy: 0.6833 - val_loss: 1.3152 - val_accuracy: 0.5700\n",
            "Epoch 40/100\n",
            "45/45 [==============================] - 0s 3ms/step - loss: 0.9718 - accuracy: 0.6778 - val_loss: 1.3252 - val_accuracy: 0.5600\n",
            "Epoch 41/100\n",
            "45/45 [==============================] - 0s 3ms/step - loss: 0.8835 - accuracy: 0.7033 - val_loss: 1.3473 - val_accuracy: 0.5400\n",
            "Epoch 42/100\n",
            "45/45 [==============================] - 0s 4ms/step - loss: 0.9046 - accuracy: 0.6767 - val_loss: 1.2654 - val_accuracy: 0.6100\n",
            "Epoch 43/100\n",
            "45/45 [==============================] - 0s 3ms/step - loss: 0.9131 - accuracy: 0.6911 - val_loss: 1.3208 - val_accuracy: 0.5800\n",
            "Epoch 44/100\n",
            "45/45 [==============================] - 0s 3ms/step - loss: 0.9751 - accuracy: 0.6811 - val_loss: 1.3782 - val_accuracy: 0.5700\n",
            "Epoch 45/100\n",
            "45/45 [==============================] - 0s 3ms/step - loss: 0.9199 - accuracy: 0.6933 - val_loss: 1.3054 - val_accuracy: 0.6000\n",
            "Epoch 46/100\n",
            "45/45 [==============================] - 0s 4ms/step - loss: 0.8619 - accuracy: 0.6956 - val_loss: 1.2405 - val_accuracy: 0.6300\n",
            "Epoch 47/100\n",
            "45/45 [==============================] - 0s 3ms/step - loss: 0.8860 - accuracy: 0.6911 - val_loss: 1.3257 - val_accuracy: 0.6200\n",
            "Epoch 48/100\n",
            "45/45 [==============================] - 0s 3ms/step - loss: 0.9186 - accuracy: 0.6933 - val_loss: 1.3532 - val_accuracy: 0.6000\n",
            "Epoch 49/100\n",
            "45/45 [==============================] - 0s 3ms/step - loss: 0.8718 - accuracy: 0.7078 - val_loss: 1.3253 - val_accuracy: 0.6000\n",
            "Epoch 50/100\n",
            "45/45 [==============================] - 0s 4ms/step - loss: 0.8411 - accuracy: 0.7344 - val_loss: 1.3360 - val_accuracy: 0.5900\n",
            "Epoch 51/100\n",
            "45/45 [==============================] - 0s 3ms/step - loss: 0.8752 - accuracy: 0.7200 - val_loss: 1.3761 - val_accuracy: 0.5900\n",
            "Epoch 52/100\n",
            "45/45 [==============================] - 0s 4ms/step - loss: 0.8556 - accuracy: 0.7078 - val_loss: 1.4021 - val_accuracy: 0.5900\n",
            "Epoch 53/100\n",
            "45/45 [==============================] - 0s 4ms/step - loss: 0.8922 - accuracy: 0.7056 - val_loss: 1.5271 - val_accuracy: 0.5500\n",
            "Epoch 54/100\n",
            "45/45 [==============================] - 0s 4ms/step - loss: 0.8401 - accuracy: 0.7189 - val_loss: 1.4117 - val_accuracy: 0.5600\n",
            "Epoch 55/100\n",
            "45/45 [==============================] - 0s 4ms/step - loss: 0.8539 - accuracy: 0.7144 - val_loss: 1.3597 - val_accuracy: 0.5700\n",
            "Epoch 56/100\n",
            "45/45 [==============================] - 0s 4ms/step - loss: 0.8422 - accuracy: 0.7322 - val_loss: 1.3182 - val_accuracy: 0.5900\n",
            "Epoch 57/100\n",
            "45/45 [==============================] - 0s 3ms/step - loss: 0.9160 - accuracy: 0.6967 - val_loss: 1.3513 - val_accuracy: 0.5900\n",
            "Epoch 58/100\n",
            "45/45 [==============================] - 0s 4ms/step - loss: 0.8298 - accuracy: 0.7344 - val_loss: 1.3326 - val_accuracy: 0.6000\n",
            "Epoch 59/100\n",
            "45/45 [==============================] - 0s 4ms/step - loss: 0.7906 - accuracy: 0.7433 - val_loss: 1.2943 - val_accuracy: 0.6200\n",
            "Epoch 60/100\n",
            "45/45 [==============================] - 0s 3ms/step - loss: 0.7732 - accuracy: 0.7433 - val_loss: 1.3421 - val_accuracy: 0.5900\n",
            "Epoch 61/100\n",
            "45/45 [==============================] - 0s 3ms/step - loss: 0.8487 - accuracy: 0.7267 - val_loss: 1.3989 - val_accuracy: 0.5900\n",
            "Epoch 62/100\n",
            "45/45 [==============================] - 0s 4ms/step - loss: 0.7883 - accuracy: 0.7522 - val_loss: 1.4094 - val_accuracy: 0.5900\n",
            "Epoch 63/100\n",
            "45/45 [==============================] - 0s 3ms/step - loss: 0.8243 - accuracy: 0.7300 - val_loss: 1.3277 - val_accuracy: 0.5900\n",
            "Epoch 64/100\n",
            "45/45 [==============================] - 0s 4ms/step - loss: 0.7698 - accuracy: 0.7389 - val_loss: 1.1725 - val_accuracy: 0.6100\n",
            "Epoch 65/100\n",
            "45/45 [==============================] - 0s 4ms/step - loss: 0.7279 - accuracy: 0.7589 - val_loss: 1.2907 - val_accuracy: 0.6100\n",
            "Epoch 66/100\n",
            "45/45 [==============================] - 0s 3ms/step - loss: 0.7465 - accuracy: 0.7467 - val_loss: 1.2986 - val_accuracy: 0.6400\n",
            "Epoch 67/100\n",
            "45/45 [==============================] - 0s 3ms/step - loss: 0.7761 - accuracy: 0.7400 - val_loss: 1.2556 - val_accuracy: 0.6300\n",
            "Epoch 68/100\n",
            "45/45 [==============================] - 0s 4ms/step - loss: 0.7768 - accuracy: 0.7533 - val_loss: 1.3140 - val_accuracy: 0.6300\n",
            "Epoch 69/100\n",
            "45/45 [==============================] - 0s 3ms/step - loss: 0.7834 - accuracy: 0.7500 - val_loss: 1.2628 - val_accuracy: 0.6100\n",
            "Epoch 70/100\n",
            "45/45 [==============================] - 0s 4ms/step - loss: 0.7355 - accuracy: 0.7500 - val_loss: 1.3741 - val_accuracy: 0.5900\n",
            "Epoch 71/100\n",
            "45/45 [==============================] - 0s 3ms/step - loss: 0.7664 - accuracy: 0.7378 - val_loss: 1.4426 - val_accuracy: 0.5800\n",
            "Epoch 72/100\n",
            "45/45 [==============================] - 0s 3ms/step - loss: 0.7288 - accuracy: 0.7622 - val_loss: 1.2555 - val_accuracy: 0.6000\n",
            "Epoch 73/100\n",
            "45/45 [==============================] - 0s 4ms/step - loss: 0.7277 - accuracy: 0.7700 - val_loss: 1.3618 - val_accuracy: 0.6400\n",
            "Epoch 74/100\n",
            "45/45 [==============================] - 0s 3ms/step - loss: 0.7471 - accuracy: 0.7533 - val_loss: 1.3767 - val_accuracy: 0.6400\n",
            "Epoch 75/100\n",
            "45/45 [==============================] - 0s 4ms/step - loss: 0.7775 - accuracy: 0.7444 - val_loss: 1.3225 - val_accuracy: 0.6500\n",
            "Epoch 76/100\n",
            "45/45 [==============================] - 0s 3ms/step - loss: 0.7087 - accuracy: 0.7667 - val_loss: 1.4808 - val_accuracy: 0.6100\n",
            "Epoch 77/100\n",
            "45/45 [==============================] - 0s 4ms/step - loss: 0.7339 - accuracy: 0.7544 - val_loss: 1.4222 - val_accuracy: 0.6000\n",
            "Epoch 78/100\n",
            "45/45 [==============================] - 0s 3ms/step - loss: 0.7807 - accuracy: 0.7600 - val_loss: 1.3312 - val_accuracy: 0.6100\n",
            "Epoch 79/100\n",
            "45/45 [==============================] - 0s 3ms/step - loss: 0.7413 - accuracy: 0.7589 - val_loss: 1.4956 - val_accuracy: 0.5200\n",
            "Epoch 80/100\n",
            "45/45 [==============================] - 0s 4ms/step - loss: 0.7204 - accuracy: 0.7711 - val_loss: 1.3210 - val_accuracy: 0.6000\n",
            "Epoch 81/100\n",
            "45/45 [==============================] - 0s 3ms/step - loss: 0.7188 - accuracy: 0.7644 - val_loss: 1.4344 - val_accuracy: 0.5900\n",
            "Epoch 82/100\n",
            "45/45 [==============================] - 0s 4ms/step - loss: 0.6931 - accuracy: 0.7667 - val_loss: 1.4794 - val_accuracy: 0.6100\n",
            "Epoch 83/100\n",
            "45/45 [==============================] - 0s 3ms/step - loss: 0.6912 - accuracy: 0.7811 - val_loss: 1.5348 - val_accuracy: 0.5700\n",
            "Epoch 84/100\n",
            "45/45 [==============================] - 0s 4ms/step - loss: 0.6956 - accuracy: 0.7756 - val_loss: 1.4435 - val_accuracy: 0.5700\n",
            "Epoch 85/100\n",
            "45/45 [==============================] - 0s 4ms/step - loss: 0.7422 - accuracy: 0.7311 - val_loss: 1.3350 - val_accuracy: 0.6100\n",
            "Epoch 86/100\n",
            "45/45 [==============================] - 0s 3ms/step - loss: 0.7624 - accuracy: 0.7544 - val_loss: 1.4138 - val_accuracy: 0.6500\n",
            "Epoch 87/100\n",
            "45/45 [==============================] - 0s 3ms/step - loss: 0.6379 - accuracy: 0.7933 - val_loss: 1.4948 - val_accuracy: 0.6300\n",
            "Epoch 88/100\n",
            "45/45 [==============================] - 0s 3ms/step - loss: 0.7096 - accuracy: 0.7689 - val_loss: 1.3176 - val_accuracy: 0.6400\n",
            "Epoch 89/100\n",
            "45/45 [==============================] - 0s 3ms/step - loss: 0.6792 - accuracy: 0.7800 - val_loss: 1.3476 - val_accuracy: 0.5900\n",
            "Epoch 90/100\n",
            "45/45 [==============================] - 0s 3ms/step - loss: 0.7244 - accuracy: 0.7622 - val_loss: 1.3931 - val_accuracy: 0.5500\n",
            "Epoch 91/100\n",
            "45/45 [==============================] - 0s 4ms/step - loss: 0.7180 - accuracy: 0.7700 - val_loss: 1.3341 - val_accuracy: 0.5800\n",
            "Epoch 92/100\n",
            "45/45 [==============================] - 0s 3ms/step - loss: 0.7320 - accuracy: 0.7611 - val_loss: 1.2737 - val_accuracy: 0.6200\n",
            "Epoch 93/100\n",
            "45/45 [==============================] - 0s 3ms/step - loss: 0.6863 - accuracy: 0.7800 - val_loss: 1.4134 - val_accuracy: 0.6000\n",
            "Epoch 94/100\n",
            "45/45 [==============================] - 0s 3ms/step - loss: 0.6327 - accuracy: 0.8033 - val_loss: 1.5598 - val_accuracy: 0.5800\n",
            "Epoch 95/100\n",
            "45/45 [==============================] - 0s 4ms/step - loss: 0.6730 - accuracy: 0.7889 - val_loss: 1.4705 - val_accuracy: 0.5900\n",
            "Epoch 96/100\n",
            "45/45 [==============================] - 0s 3ms/step - loss: 0.6783 - accuracy: 0.7789 - val_loss: 1.4292 - val_accuracy: 0.5500\n",
            "Epoch 97/100\n",
            "45/45 [==============================] - 0s 3ms/step - loss: 0.6602 - accuracy: 0.7933 - val_loss: 1.3998 - val_accuracy: 0.6400\n",
            "Epoch 98/100\n",
            "45/45 [==============================] - 0s 3ms/step - loss: 0.7322 - accuracy: 0.7578 - val_loss: 1.2768 - val_accuracy: 0.6400\n",
            "Epoch 99/100\n",
            "45/45 [==============================] - 0s 3ms/step - loss: 0.6644 - accuracy: 0.7900 - val_loss: 1.3965 - val_accuracy: 0.6400\n",
            "Epoch 100/100\n",
            "45/45 [==============================] - 0s 4ms/step - loss: 0.6147 - accuracy: 0.7978 - val_loss: 1.4535 - val_accuracy: 0.5900\n"
          ]
        },
        {
          "output_type": "display_data",
          "data": {
            "text/plain": [
              "<Figure size 432x288 with 1 Axes>"
            ],
            "image/png": "[encoded data removed]"
          },
          "metadata": {
            "needs_background": "light"
          }
        }
      ]
    }
  ]
}