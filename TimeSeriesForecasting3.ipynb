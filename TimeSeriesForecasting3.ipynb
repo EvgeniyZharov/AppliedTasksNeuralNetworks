{
  "nbformat": 4,
  "nbformat_minor": 0,
  "metadata": {
    "colab": {
      "provenance": []
    },
    "kernelspec": {
      "name": "python3",
      "display_name": "Python 3"
    },
    "language_info": {
      "name": "python"
    }
  },
  "cells": [
    {
      "cell_type": "markdown",
      "source": [
        "Сделайте несколько усовершенствований в предсказании временного ряда\n",
        "\n",
        "1. Добавьте к исходному временному ряду следующие данные, в виде новых каналов:\n",
        "\n",
        "попарные разности каналов\n",
        "модули попарных разностей каналов\n",
        "попарные произведения каналов\n",
        "обратное значение каналов x_new = 1/(x + 1e-3)\n",
        "первые производные каналов (x[n] - x[n-1])\n",
        "вторые производные каналов (x[n] - 2*x[n-1] + x[n-2])\n",
        "* каналы - столбцы датафрейма OPEN, MAX, MIN, CLOSE.\n",
        "\n",
        "2. Сделайте предсказание нейросети, сравните эталонный сигнал с настоящим. При формировании входного сигнала используйте:\n",
        "\n",
        "100 точек с шагом назад по 1\n",
        "100 точек с шагом назад по 10 (или сами точки, или среднее по отрезку в 10 точек)"
      ],
      "metadata": {
        "id": "tq7TowMwfOKk"
      }
    },
    {
      "cell_type": "code",
      "metadata": {
        "id": "E0ToeFVcfy7H"
      },
      "source": [
        "import pandas as pd\n",
        "import matplotlib.pyplot as plt\n",
        "from tensorflow.keras.utils import to_categorical \n",
        "import numpy as np\n",
        "from tensorflow.keras.optimizers import Adam\n",
        "from tensorflow.keras.models import Sequential, Model\n",
        "from tensorflow.keras.layers import concatenate, Input, Dense, Dropout, BatchNormalization, Flatten, Conv1D, Conv2D, LSTM, GlobalMaxPooling1D, MaxPooling1D, RepeatVector #Стандартные слои\n",
        "from sklearn.preprocessing import StandardScaler, MinMaxScaler\n",
        "from tensorflow.keras.preprocessing.sequence import TimeseriesGenerator\n",
        "\n",
        "import warnings\n",
        "warnings.filterwarnings(\"ignore\")\n",
        "%matplotlib inline"
      ],
      "execution_count": null,
      "outputs": []
    },
    {
      "cell_type": "code",
      "metadata": {
        "colab": {
          "base_uri": "https://localhost:8080/"
        },
        "id": "_3gFcQWrgRNC",
        "outputId": "3904b230-a67a-4c82-8326-3f971d06c7a1"
      },
      "source": [
        "from google.colab import drive\n",
        "drive.mount('/content/drive')"
      ],
      "execution_count": null,
      "outputs": [
        {
          "output_type": "stream",
          "name": "stdout",
          "text": [
            "Drive already mounted at /content/drive; to attempt to forcibly remount, call drive.mount(\"/content/drive\", force_remount=True).\n"
          ]
        }
      ]
    },
    {
      "cell_type": "code",
      "metadata": {
        "id": "HO_XRrPQgTWi"
      },
      "source": [
        "base_data16 = pd.read_csv('/content/drive/MyDrive/Lessons/Lesson7/16_17.csv', sep=';')\n",
        "base_data18 = pd.read_csv('/content/drive/MyDrive/Lessons/Lesson7/18_19.csv', sep=';')\n",
        "data16_17 = base_data16.iloc[:,2:]\n",
        "data18_19 = base_data18.iloc[:,2:]"
      ],
      "execution_count": null,
      "outputs": []
    },
    {
      "cell_type": "code",
      "metadata": {
        "colab": {
          "base_uri": "https://localhost:8080/"
        },
        "id": "vdrAXmA9gvRv",
        "outputId": "30376f98-5168-480e-bb2a-ed64a609b038"
      },
      "source": [
        "data16_17.shape[0]"
      ],
      "execution_count": null,
      "outputs": [
        {
          "output_type": "execute_result",
          "data": {
            "text/plain": [
              "263925"
            ]
          },
          "metadata": {},
          "execution_count": 80
        }
      ]
    },
    {
      "cell_type": "code",
      "metadata": {
        "colab": {
          "base_uri": "https://localhost:8080/"
        },
        "id": "RqVAEE89hHtQ",
        "outputId": "95977abd-fe0b-476a-88b2-b292f03caeca"
      },
      "source": [
        "d = data18_19\n",
        "print(len(d))\n",
        "print(len(d.iloc[0]))\n",
        "print(d.iloc[0])"
      ],
      "execution_count": null,
      "outputs": [
        {
          "output_type": "stream",
          "name": "stdout",
          "text": [
            "217947\n",
            "5\n",
            "OPEN      3341.0\n",
            "MAX       3356.0\n",
            "MIN       3340.0\n",
            "CLOSE     3355.0\n",
            "VOLUME    6088.0\n",
            "Name: 0, dtype: float64\n"
          ]
        }
      ]
    },
    {
      "cell_type": "code",
      "metadata": {
        "id": "s0HvyuF3hSRh"
      },
      "source": [
        "data = data16_17.copy()\n",
        "data = pd.concat([data16_17,data18_19])\n",
        "data = np.array(data)"
      ],
      "execution_count": null,
      "outputs": []
    },
    {
      "cell_type": "code",
      "source": [
        "open = data[:,0]\n",
        "max = data[:,1]\n",
        "min = data[:,2]\n",
        "close = data[:,3]"
      ],
      "metadata": {
        "id": "cil5-U4TS_iv"
      },
      "execution_count": null,
      "outputs": []
    },
    {
      "cell_type": "code",
      "source": [
        "\n",
        "d = list()\n",
        "\n",
        "# Так задача прогнозировать в обратном порядке\n",
        "for ii in range(len(open)):\n",
        "  d.append([open[- 1 - ii], close[- 1 - ii]])"
      ],
      "metadata": {
        "id": "6vOdbiVkLqR_"
      },
      "execution_count": null,
      "outputs": []
    },
    {
      "cell_type": "code",
      "source": [
        "def get_part_data(data):\n",
        "  new_data = list()\n",
        "  data = np.array(data)\n",
        "  for ii in range(len(data)):\n",
        "    elem = list()\n",
        "    elem.append(data[ii,0] - data[ii,1])\n",
        "    elem.append(abs(data[ii,0] - data[ii,1]))\n",
        "    elem.append(data[ii,0] * data[ii,1])\n",
        "    for jj in range(2):\n",
        "      elem.append(1 / (data[ii,jj] + 1e-3))\n",
        "    if ii == 0:\n",
        "      for jj in range(2):\n",
        "        elem.append(0)\n",
        "    else:\n",
        "      for jj in range(2):\n",
        "        elem.append(data[ii,jj] - data[ii-1,jj])\n",
        "\n",
        "    if ii < 2:\n",
        "      for jj in range(2):\n",
        "        elem.append(0)\n",
        "    else:\n",
        "      for jj in range(2):\n",
        "        elem.append(data[ii,jj] - 2*data[ii-1,jj] + data[ii-2,jj])\n",
        "    new_data.append(elem)\n",
        "  return np.array(new_data)\n"
      ],
      "metadata": {
        "id": "y2bk21v_WvWE"
      },
      "execution_count": null,
      "outputs": []
    },
    {
      "cell_type": "code",
      "source": [
        "dt = get_part_data(d)\n",
        "# data = np.array(data)\n",
        "print(dt.shape)\n"
      ],
      "metadata": {
        "id": "jkWVw-87SOk2",
        "colab": {
          "base_uri": "https://localhost:8080/"
        },
        "outputId": "54b9deed-1ebc-4d6d-9809-f6744bdc525e"
      },
      "execution_count": null,
      "outputs": [
        {
          "output_type": "stream",
          "name": "stdout",
          "text": [
            "(481872, 9)\n"
          ]
        }
      ]
    },
    {
      "cell_type": "code",
      "source": [
        "print(dt[5])"
      ],
      "metadata": {
        "colab": {
          "base_uri": "https://localhost:8080/"
        },
        "id": "RdF-gY3wUx5e",
        "outputId": "5662726c-d5f9-4749-f596-0719eb119ed0"
      },
      "execution_count": null,
      "outputs": [
        {
          "output_type": "stream",
          "name": "stdout",
          "text": [
            "[-2.00000000e+00  2.00000000e+00  2.67392400e+07  1.93423560e-04\n",
            "  1.93348764e-04 -1.35000000e+01 -1.15000000e+01 -1.35000000e+01\n",
            " -1.15000000e+01]\n"
          ]
        }
      ]
    },
    {
      "cell_type": "code",
      "source": [
        "xScaler = MinMaxScaler()\n",
        "xScaler.fit(data)\n",
        "\n",
        "xx = xScaler.transform(data)"
      ],
      "metadata": {
        "id": "4KJ21CenU_7c"
      },
      "execution_count": null,
      "outputs": []
    },
    {
      "cell_type": "code",
      "source": [
        "print(dt[:100].shape)"
      ],
      "metadata": {
        "colab": {
          "base_uri": "https://localhost:8080/"
        },
        "id": "RHu-HbRmdGWA",
        "outputId": "de29ad4f-86c9-4b3a-c7d9-2a06a7e29cdd"
      },
      "execution_count": null,
      "outputs": [
        {
          "output_type": "stream",
          "name": "stdout",
          "text": [
            "(100, 9)\n"
          ]
        }
      ]
    },
    {
      "cell_type": "code",
      "source": [
        "xLen = 100\n",
        "trainLen = len(dt) - 30000\n",
        "testLen = len(dt) - trainLen - xLen - xLen\n",
        "yTrain = np.reshape(dt[xLen:trainLen + xLen], (-1, 9))\n",
        "yTest = np.reshape(dt[trainLen + xLen * 2:], (-1, 9))"
      ],
      "metadata": {
        "id": "TydpIEZxVOtJ"
      },
      "execution_count": null,
      "outputs": []
    },
    {
      "cell_type": "code",
      "source": [
        "np.reshape(np.array([[1, 2, 5], [3, 4, 3], [4, 5, 4]]), (-1, 3))\n",
        "dt[xLen:trainLen + xLen].shape"
      ],
      "metadata": {
        "colab": {
          "base_uri": "https://localhost:8080/"
        },
        "id": "EZ9kosLHfr6g",
        "outputId": "36d9ef09-6505-485b-95c6-7516aebc7514"
      },
      "execution_count": null,
      "outputs": [
        {
          "output_type": "execute_result",
          "data": {
            "text/plain": [
              "(451872, 9)"
            ]
          },
          "metadata": {},
          "execution_count": 120
        }
      ]
    },
    {
      "cell_type": "markdown",
      "metadata": {
        "id": "hDsb_RlSjt8v"
      },
      "source": [
        "## Получение данных"
      ]
    },
    {
      "cell_type": "code",
      "execution_count": null,
      "metadata": {
        "id": "g6Pyfx94jt8w"
      },
      "outputs": [],
      "source": [
        "def get_data(data, xLen=100, valLen=30000):\n",
        "\n",
        "  trainLen = len(data) - valLen\n",
        "\n",
        "  testLen = len(data) - trainLen - xLen*2\n",
        " \n",
        "  xTrain = data[:trainLen].reshape(trainLen, 9)\n",
        "  xTest = data[trainLen + xLen: -xLen].reshape(testLen, 9)\n",
        "\n",
        "  yTrain = np.reshape(data[xLen:trainLen + xLen], (-1, 9))\n",
        "  yTest = np.reshape(data[trainLen + xLen * 2:], (-1, 9))\n",
        "\n",
        "  xScaler = MinMaxScaler()\n",
        "  xScaler.fit(xTrain)\n",
        "\n",
        "  yScaler = MinMaxScaler()\n",
        "  yScaler.fit(yTrain)\n",
        "\n",
        "  xTrain = xScaler.transform(xTrain)\n",
        "  xTest = xScaler.transform(xTest)\n",
        "  \n",
        "  yTrain = yScaler.transform(yTrain)\n",
        "  yTest = yScaler.transform(yTest)\n",
        "\n",
        "  print(len(xTrain))\n",
        "  print(len(xTest))\n",
        "  print(len(yTrain))\n",
        "  print(len(yTest))\n",
        "  # 451872\n",
        "  # 29800\n",
        "  # 2259360\n",
        "  # 149000  \n",
        "\n",
        "  trainDataGen = TimeseriesGenerator(xTrain, yTrain, \n",
        "                                length=xLen, stride=1, sampling_rate=1,\n",
        "                                batch_size=20)\n",
        "\n",
        "  testDataGen = TimeseriesGenerator(xTest, yTest,\n",
        "                                length=xLen, stride=1,\n",
        "                                batch_size=20)\n",
        "   \n",
        "  DataGen = TimeseriesGenerator(xTest, yTest,\n",
        "                               length=xLen,\n",
        "                               batch_size=len(xTest))\n",
        "  \n",
        "  xVal = []\n",
        "  yVal = []\n",
        "  for i in DataGen:\n",
        "    xVal.append(i[0])\n",
        "    yVal.append(i[1])\n",
        "\n",
        "  xVal = np.array(xVal)\n",
        "  yVal = np.array(yVal)\n",
        "    \n",
        "\n",
        "\n",
        "  return [trainDataGen, testDataGen, xScaler, yScaler, xVal, yVal]\n"
      ]
    },
    {
      "cell_type": "code",
      "metadata": {
        "colab": {
          "base_uri": "https://localhost:8080/"
        },
        "id": "yVEgDSrckrjF",
        "outputId": "a94e384e-4e4f-4e40-aa86-6e50e40665d8"
      },
      "source": [
        "print(trainDataGen[0][0].shape,\n",
        "      trainDataGen[0][1].shape)"
      ],
      "execution_count": null,
      "outputs": [
        {
          "output_type": "stream",
          "name": "stdout",
          "text": [
            "(4, 5, 3) (4,)\n"
          ]
        }
      ]
    },
    {
      "cell_type": "code",
      "metadata": {
        "id": "mDoVhPqWkxWA"
      },
      "source": [
        "def getPred(currModel, xVal, yVal, yScaler):\n",
        "\n",
        "  predVal = yScaler.inverse_transform(currModel.predict(xVal))\n",
        "  yValUnscaled = yScaler.inverse_transform(yVal)\n",
        "  \n",
        "  return (predVal, yValUnscaled)\n",
        "\n",
        "\n",
        "def showPredict(start, step, channel, predVal, yValUnscaled):\n",
        "  plt.figure(figsize=(22,6))\n",
        "  plt.plot(predVal[start:start+step, 0],\n",
        "           label='Прогноз')\n",
        "  plt.plot(yValUnscaled[start:start+step, channel], \n",
        "           label='Базовый ряд')\n",
        "  plt.xlabel('Время')\n",
        "  plt.ylabel('Значение Close')\n",
        "  plt.legend()\n",
        "  plt.show()\n",
        "  \n",
        "\n",
        "def correlate(a, b):\n",
        "\n",
        "  ma = a.mean()\n",
        "  mb = b.mean()\n",
        "  mab = (a*b).mean()\n",
        "  sa = a.std()\n",
        "  sb = b.std()\n",
        "  \n",
        "  val = 1\n",
        "  if ((sa>0) & (sb>0)):\n",
        "    val = (mab-ma*mb)/(sa*sb)\n",
        "  return val\n",
        "\n",
        "\n",
        "def showCorr(channels, corrSteps, predVal, yValUnscaled):\n",
        "\n",
        "  for ch in channels:\n",
        "    corr = []\n",
        "    yLen = yValUnscaled.shape[0]\n",
        "\n",
        "    for i in range(corrSteps):\n",
        "\n",
        "      corr.append(correlate(yValUnscaled[:yLen-i,ch], predVal[i:, 0]))\n",
        "\n",
        "    own_corr = []\n",
        "\n",
        "     \n",
        "    for i in range(corrSteps):\n",
        "      own_corr.append(correlate(yValUnscaled[:yLen-i,ch], yValUnscaled[i:, ch]))\n",
        "\n",
        "    plt.figure(figsize=(14,7))\n",
        "    plt.plot(corr, label='Предсказание на ' + str(ch+1) + ' шаг')\n",
        "    plt.plot(own_corr, label='Эталон')\n",
        "\n",
        "  plt.xlabel('Время')\n",
        "  plt.ylabel('Значение')\n",
        "  plt.legend()\n",
        "  plt.show()"
      ],
      "execution_count": null,
      "outputs": []
    },
    {
      "cell_type": "code",
      "source": [
        "data_for_model = get_data(dt)\n",
        "trainDataGen, testDataGen = data_for_model[0], data_for_model[1]\n",
        "xScaler, yScaler = data_for_model[2], data_for_model[3]\n",
        "xVal, yVal = data_for_model[4], data_for_model[5]"
      ],
      "metadata": {
        "colab": {
          "base_uri": "https://localhost:8080/"
        },
        "id": "dd6pPgenV5_1",
        "outputId": "8ac18952-63ed-40b9-95ae-4e59f5ffcbef"
      },
      "execution_count": null,
      "outputs": [
        {
          "output_type": "stream",
          "name": "stdout",
          "text": [
            "451872\n",
            "29800\n",
            "451872\n",
            "29800\n"
          ]
        }
      ]
    },
    {
      "cell_type": "code",
      "metadata": {
        "colab": {
          "base_uri": "https://localhost:8080/"
        },
        "id": "PzgphqSml-Pc",
        "outputId": "7f0e9469-6e5f-4408-e58d-aeb2e6a3cb26"
      },
      "source": [
        "modelD = Sequential()\n",
        "modelD.add(Dense(150,input_shape = (xLen,9), activation=\"relu\" ))\n",
        "modelD.add(Flatten())\n",
        "modelD.add(Dense(9, activation=\"linear\"))\n",
        "\n",
        "modelD.compile(loss=\"mse\", optimizer=Adam(lr=1e-4))\n",
        "\n",
        "modelD.summary()"
      ],
      "execution_count": null,
      "outputs": [
        {
          "output_type": "stream",
          "name": "stdout",
          "text": [
            "Model: \"sequential\"\n",
            "_________________________________________________________________\n",
            " Layer (type)                Output Shape              Param #   \n",
            "=================================================================\n",
            " dense (Dense)               (None, 100, 150)          1500      \n",
            "                                                                 \n",
            " flatten (Flatten)           (None, 15000)             0         \n",
            "                                                                 \n",
            " dense_1 (Dense)             (None, 9)                 135009    \n",
            "                                                                 \n",
            "=================================================================\n",
            "Total params: 136,509\n",
            "Trainable params: 136,509\n",
            "Non-trainable params: 0\n",
            "_________________________________________________________________\n"
          ]
        }
      ]
    },
    {
      "cell_type": "code",
      "metadata": {
        "id": "P95P1L6vnQiU"
      },
      "source": [
        "epochs = 25"
      ],
      "execution_count": null,
      "outputs": []
    },
    {
      "cell_type": "code",
      "metadata": {
        "colab": {
          "base_uri": "https://localhost:8080/"
        },
        "id": "ajPNXEMtmGlg",
        "outputId": "c8c96e27-b748-4b39-b3db-4a9bc3d55052"
      },
      "source": [
        "history = modelD.fit(\n",
        "                    trainDataGen, \n",
        "                    epochs=epochs, \n",
        "                    verbose=1, \n",
        "                    validation_data = testDataGen \n",
        "                    )"
      ],
      "execution_count": null,
      "outputs": [
        {
          "output_type": "stream",
          "name": "stdout",
          "text": [
            "Epoch 1/25\n",
            "22589/22589 [==============================] - 140s 6ms/step - loss: 3.4054e-04 - val_loss: 0.0011\n",
            "Epoch 2/25\n",
            "22589/22589 [==============================] - 141s 6ms/step - loss: 1.6072e-04 - val_loss: 0.0046\n",
            "Epoch 3/25\n",
            "22589/22589 [==============================] - 139s 6ms/step - loss: 1.4743e-04 - val_loss: 0.0028\n",
            "Epoch 4/25\n",
            "22589/22589 [==============================] - 140s 6ms/step - loss: 1.4033e-04 - val_loss: 0.0014\n",
            "Epoch 5/25\n",
            "22589/22589 [==============================] - 147s 6ms/step - loss: 1.3736e-04 - val_loss: 0.0018\n",
            "Epoch 6/25\n",
            "22589/22589 [==============================] - 148s 7ms/step - loss: 1.3563e-04 - val_loss: 0.0025\n",
            "Epoch 7/25\n",
            "22589/22589 [==============================] - 147s 7ms/step - loss: 1.3426e-04 - val_loss: 7.6219e-04\n",
            "Epoch 8/25\n",
            "22589/22589 [==============================] - 145s 6ms/step - loss: 1.3414e-04 - val_loss: 0.0030\n",
            "Epoch 9/25\n",
            "22589/22589 [==============================] - 148s 7ms/step - loss: 1.3217e-04 - val_loss: 0.0017\n",
            "Epoch 10/25\n",
            "22589/22589 [==============================] - 142s 6ms/step - loss: 1.3164e-04 - val_loss: 0.0025\n",
            "Epoch 11/25\n",
            "22589/22589 [==============================] - 146s 6ms/step - loss: 1.3100e-04 - val_loss: 0.0020\n",
            "Epoch 12/25\n",
            "22589/22589 [==============================] - 145s 6ms/step - loss: 1.3002e-04 - val_loss: 0.0022\n",
            "Epoch 13/25\n",
            "22589/22589 [==============================] - 144s 6ms/step - loss: 1.2970e-04 - val_loss: 0.0018\n",
            "Epoch 14/25\n",
            "22589/22589 [==============================] - 145s 6ms/step - loss: 1.2922e-04 - val_loss: 0.0028\n",
            "Epoch 15/25\n",
            "22589/22589 [==============================] - 142s 6ms/step - loss: 1.2920e-04 - val_loss: 0.0011\n",
            "Epoch 16/25\n",
            "22589/22589 [==============================] - 140s 6ms/step - loss: 1.2917e-04 - val_loss: 0.0019\n",
            "Epoch 17/25\n",
            "22589/22589 [==============================] - 142s 6ms/step - loss: 1.2901e-04 - val_loss: 0.0020\n",
            "Epoch 18/25\n",
            "22589/22589 [==============================] - 142s 6ms/step - loss: 1.2852e-04 - val_loss: 0.0014\n",
            "Epoch 19/25\n",
            "22589/22589 [==============================] - 140s 6ms/step - loss: 1.2808e-04 - val_loss: 0.0020\n",
            "Epoch 20/25\n",
            "22589/22589 [==============================] - 136s 6ms/step - loss: 1.2771e-04 - val_loss: 0.0024\n",
            "Epoch 21/25\n",
            "22589/22589 [==============================] - 141s 6ms/step - loss: 1.2797e-04 - val_loss: 0.0032\n",
            "Epoch 22/25\n",
            "22589/22589 [==============================] - 139s 6ms/step - loss: 1.2745e-04 - val_loss: 8.8061e-04\n",
            "Epoch 23/25\n",
            "22589/22589 [==============================] - 137s 6ms/step - loss: 1.2771e-04 - val_loss: 0.0014\n",
            "Epoch 24/25\n",
            "22589/22589 [==============================] - 136s 6ms/step - loss: 1.2765e-04 - val_loss: 0.0014\n",
            "Epoch 25/25\n",
            "22589/22589 [==============================] - 137s 6ms/step - loss: 1.2739e-04 - val_loss: 0.0017\n"
          ]
        }
      ]
    }
  ]
}