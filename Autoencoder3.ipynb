{
  "nbformat": 4,
  "nbformat_minor": 0,
  "metadata": {
    "colab": {
      "provenance": []
    },
    "kernelspec": {
      "name": "python3",
      "display_name": "Python 3"
    },
    "language_info": {
      "name": "python"
    }
  },
  "cells": [
    {
      "cell_type": "markdown",
      "source": [
        "Добейтесь средней точности 91-92% в задаче поиска мошеннических операций. Для этого попробуйте сделать более мощный автокодировщик и гибкую настройку порога (bias), по которому мы определяем, мошенническая транзакция или нет\n",
        "\n",
        "Постройте на одном графике 2 гистограммы (density=True) для нормальных и мошеннических транзакций. По графику определите 3 порога:\n",
        "1) при котором все мошеннические транзакции будут пойманы\n",
        "2) “оптимальный порог” - на пересечении распределений\n",
        "3) при котором ни одна нормальная транзакция не будет распознана, как мошенническая"
      ],
      "metadata": {
        "id": "hAGDoZYsqM-Y"
      }
    },
    {
      "cell_type": "code",
      "metadata": {
        "id": "0hyWYiPqLdez"
      },
      "source": [
        "from tensorflow.keras.models import Model, Sequential # загружаем абстрактный класс базовой модели сети от кераса и последовательную модель\n",
        "# Из кераса загружаем необходимые слои для нейросети\n",
        "from tensorflow.keras.layers import Dense, Flatten, Reshape, Input, Conv2DTranspose, concatenate, Activation, MaxPooling2D, Conv2D, BatchNormalization, Dropout\n",
        "from tensorflow.keras import backend as K # подтягиваем базовые керасовские функции\n",
        "from tensorflow.keras.optimizers import Adam # загружаем выбранный оптимизатор\n",
        "from tensorflow.keras import utils # загружаем утилиты кераса\n",
        "from tensorflow.keras.datasets import mnist, fashion_mnist # загружаем готовые базы mnist\n",
        "from tensorflow.keras.callbacks import LambdaCallback\n",
        "\n",
        "import matplotlib.pyplot as plt # из библиотеки для визуализации данных возьмём интерфейс для построения графиков простых функций\n",
        "from tensorflow.keras.preprocessing import image # модуль для отрисовки изображения\n",
        "import numpy as np # библиотека для работы с массивами данных\n",
        "import pandas as pd # библиотека для анализа и обработки данных\n",
        "from PIL import Image # модуль для отрисовки изображения\n",
        "from sklearn.model_selection import train_test_split # модуль для разбивки выборки на тренировочную/тестовую\n",
        "from sklearn.preprocessing import StandardScaler # модуль для стандартизации данных\n",
        "\n",
        "import os #\n",
        "from google.colab import drive #модуль для работы с google диском \n",
        "import time, random\n",
        "import seaborn as sns\n",
        "sns.set_style('darkgrid')"
      ],
      "execution_count": null,
      "outputs": []
    },
    {
      "cell_type": "code",
      "source": [
        "drive.mount('/content/drive/') # монтируем google диск"
      ],
      "metadata": {
        "colab": {
          "base_uri": "https://localhost:8080/"
        },
        "id": "kV5k1X1CGck1",
        "outputId": "2ba22a75-0f7d-423b-ed5a-680874478aaf"
      },
      "execution_count": null,
      "outputs": [
        {
          "output_type": "stream",
          "name": "stdout",
          "text": [
            "Mounted at /content/drive/\n"
          ]
        }
      ]
    },
    {
      "cell_type": "code",
      "metadata": {
        "id": "89p7GynPQM4F"
      },
      "source": [
        "df = pd.read_csv(\"/content/drive/MyDrive/Lessons/Lesson9/creditcard.csv\") # читаем базу"
      ],
      "execution_count": null,
      "outputs": []
    },
    {
      "cell_type": "code",
      "metadata": {
        "id": "wZ6_P099QNn9",
        "colab": {
          "base_uri": "https://localhost:8080/",
          "height": 299
        },
        "outputId": "5fe6790a-62ff-4540-de66-270b005ea08e"
      },
      "source": [
        "df.head() # выводим первые пять строк"
      ],
      "execution_count": null,
      "outputs": [
        {
          "output_type": "execute_result",
          "data": {
            "text/plain": [
              "   Time        V1        V2        V3        V4        V5        V6        V7  \\\n",
              "0   0.0 -1.359807 -0.072781  2.536347  1.378155 -0.338321  0.462388  0.239599   \n",
              "1   0.0  1.191857  0.266151  0.166480  0.448154  0.060018 -0.082361 -0.078803   \n",
              "2   1.0 -1.358354 -1.340163  1.773209  0.379780 -0.503198  1.800499  0.791461   \n",
              "3   1.0 -0.966272 -0.185226  1.792993 -0.863291 -0.010309  1.247203  0.237609   \n",
              "4   2.0 -1.158233  0.877737  1.548718  0.403034 -0.407193  0.095921  0.592941   \n",
              "\n",
              "         V8        V9  ...       V21       V22       V23       V24       V25  \\\n",
              "0  0.098698  0.363787  ... -0.018307  0.277838 -0.110474  0.066928  0.128539   \n",
              "1  0.085102 -0.255425  ... -0.225775 -0.638672  0.101288 -0.339846  0.167170   \n",
              "2  0.247676 -1.514654  ...  0.247998  0.771679  0.909412 -0.689281 -0.327642   \n",
              "3  0.377436 -1.387024  ... -0.108300  0.005274 -0.190321 -1.175575  0.647376   \n",
              "4 -0.270533  0.817739  ... -0.009431  0.798278 -0.137458  0.141267 -0.206010   \n",
              "\n",
              "        V26       V27       V28  Amount  Class  \n",
              "0 -0.189115  0.133558 -0.021053  149.62      0  \n",
              "1  0.125895 -0.008983  0.014724    2.69      0  \n",
              "2 -0.139097 -0.055353 -0.059752  378.66      0  \n",
              "3 -0.221929  0.062723  0.061458  123.50      0  \n",
              "4  0.502292  0.219422  0.215153   69.99      0  \n",
              "\n",
              "[5 rows x 31 columns]"
            ],
            "text/html": [
              "\n",
              "  <div id=\"df-45f328b3-0844-4c06-9123-7518a0ef39a8\">\n",
              "    <div class=\"colab-df-container\">\n",
              "      <div>\n",
              "<style scoped>\n",
              "    .dataframe tbody tr th:only-of-type {\n",
              "        vertical-align: middle;\n",
              "    }\n",
              "\n",
              "    .dataframe tbody tr th {\n",
              "        vertical-align: top;\n",
              "    }\n",
              "\n",
              "    .dataframe thead th {\n",
              "        text-align: right;\n",
              "    }\n",
              "</style>\n",
              "<table border=\"1\" class=\"dataframe\">\n",
              "  <thead>\n",
              "    <tr style=\"text-align: right;\">\n",
              "      <th></th>\n",
              "      <th>Time</th>\n",
              "      <th>V1</th>\n",
              "      <th>V2</th>\n",
              "      <th>V3</th>\n",
              "      <th>V4</th>\n",
              "      <th>V5</th>\n",
              "      <th>V6</th>\n",
              "      <th>V7</th>\n",
              "      <th>V8</th>\n",
              "      <th>V9</th>\n",
              "      <th>...</th>\n",
              "      <th>V21</th>\n",
              "      <th>V22</th>\n",
              "      <th>V23</th>\n",
              "      <th>V24</th>\n",
              "      <th>V25</th>\n",
              "      <th>V26</th>\n",
              "      <th>V27</th>\n",
              "      <th>V28</th>\n",
              "      <th>Amount</th>\n",
              "      <th>Class</th>\n",
              "    </tr>\n",
              "  </thead>\n",
              "  <tbody>\n",
              "    <tr>\n",
              "      <th>0</th>\n",
              "      <td>0.0</td>\n",
              "      <td>-1.359807</td>\n",
              "      <td>-0.072781</td>\n",
              "      <td>2.536347</td>\n",
              "      <td>1.378155</td>\n",
              "      <td>-0.338321</td>\n",
              "      <td>0.462388</td>\n",
              "      <td>0.239599</td>\n",
              "      <td>0.098698</td>\n",
              "      <td>0.363787</td>\n",
              "      <td>...</td>\n",
              "      <td>-0.018307</td>\n",
              "      <td>0.277838</td>\n",
              "      <td>-0.110474</td>\n",
              "      <td>0.066928</td>\n",
              "      <td>0.128539</td>\n",
              "      <td>-0.189115</td>\n",
              "      <td>0.133558</td>\n",
              "      <td>-0.021053</td>\n",
              "      <td>149.62</td>\n",
              "      <td>0</td>\n",
              "    </tr>\n",
              "    <tr>\n",
              "      <th>1</th>\n",
              "      <td>0.0</td>\n",
              "      <td>1.191857</td>\n",
              "      <td>0.266151</td>\n",
              "      <td>0.166480</td>\n",
              "      <td>0.448154</td>\n",
              "      <td>0.060018</td>\n",
              "      <td>-0.082361</td>\n",
              "      <td>-0.078803</td>\n",
              "      <td>0.085102</td>\n",
              "      <td>-0.255425</td>\n",
              "      <td>...</td>\n",
              "      <td>-0.225775</td>\n",
              "      <td>-0.638672</td>\n",
              "      <td>0.101288</td>\n",
              "      <td>-0.339846</td>\n",
              "      <td>0.167170</td>\n",
              "      <td>0.125895</td>\n",
              "      <td>-0.008983</td>\n",
              "      <td>0.014724</td>\n",
              "      <td>2.69</td>\n",
              "      <td>0</td>\n",
              "    </tr>\n",
              "    <tr>\n",
              "      <th>2</th>\n",
              "      <td>1.0</td>\n",
              "      <td>-1.358354</td>\n",
              "      <td>-1.340163</td>\n",
              "      <td>1.773209</td>\n",
              "      <td>0.379780</td>\n",
              "      <td>-0.503198</td>\n",
              "      <td>1.800499</td>\n",
              "      <td>0.791461</td>\n",
              "      <td>0.247676</td>\n",
              "      <td>-1.514654</td>\n",
              "      <td>...</td>\n",
              "      <td>0.247998</td>\n",
              "      <td>0.771679</td>\n",
              "      <td>0.909412</td>\n",
              "      <td>-0.689281</td>\n",
              "      <td>-0.327642</td>\n",
              "      <td>-0.139097</td>\n",
              "      <td>-0.055353</td>\n",
              "      <td>-0.059752</td>\n",
              "      <td>378.66</td>\n",
              "      <td>0</td>\n",
              "    </tr>\n",
              "    <tr>\n",
              "      <th>3</th>\n",
              "      <td>1.0</td>\n",
              "      <td>-0.966272</td>\n",
              "      <td>-0.185226</td>\n",
              "      <td>1.792993</td>\n",
              "      <td>-0.863291</td>\n",
              "      <td>-0.010309</td>\n",
              "      <td>1.247203</td>\n",
              "      <td>0.237609</td>\n",
              "      <td>0.377436</td>\n",
              "      <td>-1.387024</td>\n",
              "      <td>...</td>\n",
              "      <td>-0.108300</td>\n",
              "      <td>0.005274</td>\n",
              "      <td>-0.190321</td>\n",
              "      <td>-1.175575</td>\n",
              "      <td>0.647376</td>\n",
              "      <td>-0.221929</td>\n",
              "      <td>0.062723</td>\n",
              "      <td>0.061458</td>\n",
              "      <td>123.50</td>\n",
              "      <td>0</td>\n",
              "    </tr>\n",
              "    <tr>\n",
              "      <th>4</th>\n",
              "      <td>2.0</td>\n",
              "      <td>-1.158233</td>\n",
              "      <td>0.877737</td>\n",
              "      <td>1.548718</td>\n",
              "      <td>0.403034</td>\n",
              "      <td>-0.407193</td>\n",
              "      <td>0.095921</td>\n",
              "      <td>0.592941</td>\n",
              "      <td>-0.270533</td>\n",
              "      <td>0.817739</td>\n",
              "      <td>...</td>\n",
              "      <td>-0.009431</td>\n",
              "      <td>0.798278</td>\n",
              "      <td>-0.137458</td>\n",
              "      <td>0.141267</td>\n",
              "      <td>-0.206010</td>\n",
              "      <td>0.502292</td>\n",
              "      <td>0.219422</td>\n",
              "      <td>0.215153</td>\n",
              "      <td>69.99</td>\n",
              "      <td>0</td>\n",
              "    </tr>\n",
              "  </tbody>\n",
              "</table>\n",
              "<p>5 rows × 31 columns</p>\n",
              "</div>\n",
              "      <button class=\"colab-df-convert\" onclick=\"convertToInteractive('df-45f328b3-0844-4c06-9123-7518a0ef39a8')\"\n",
              "              title=\"Convert this dataframe to an interactive table.\"\n",
              "              style=\"display:none;\">\n",
              "        \n",
              "  <svg xmlns=\"http://www.w3.org/2000/svg\" height=\"24px\"viewBox=\"0 0 24 24\"\n",
              "       width=\"24px\">\n",
              "    <path d=\"M0 0h24v24H0V0z\" fill=\"none\"/>\n",
              "    <path d=\"M18.56 5.44l.94 2.06.94-2.06 2.06-.94-2.06-.94-.94-2.06-.94 2.06-2.06.94zm-11 1L8.5 8.5l.94-2.06 2.06-.94-2.06-.94L8.5 2.5l-.94 2.06-2.06.94zm10 10l.94 2.06.94-2.06 2.06-.94-2.06-.94-.94-2.06-.94 2.06-2.06.94z\"/><path d=\"M17.41 7.96l-1.37-1.37c-.4-.4-.92-.59-1.43-.59-.52 0-1.04.2-1.43.59L10.3 9.45l-7.72 7.72c-.78.78-.78 2.05 0 2.83L4 21.41c.39.39.9.59 1.41.59.51 0 1.02-.2 1.41-.59l7.78-7.78 2.81-2.81c.8-.78.8-2.07 0-2.86zM5.41 20L4 18.59l7.72-7.72 1.47 1.35L5.41 20z\"/>\n",
              "  </svg>\n",
              "      </button>\n",
              "      \n",
              "  <style>\n",
              "    .colab-df-container {\n",
              "      display:flex;\n",
              "      flex-wrap:wrap;\n",
              "      gap: 12px;\n",
              "    }\n",
              "\n",
              "    .colab-df-convert {\n",
              "      background-color: #E8F0FE;\n",
              "      border: none;\n",
              "      border-radius: 50%;\n",
              "      cursor: pointer;\n",
              "      display: none;\n",
              "      fill: #1967D2;\n",
              "      height: 32px;\n",
              "      padding: 0 0 0 0;\n",
              "      width: 32px;\n",
              "    }\n",
              "\n",
              "    .colab-df-convert:hover {\n",
              "      background-color: #E2EBFA;\n",
              "      box-shadow: 0px 1px 2px rgba(60, 64, 67, 0.3), 0px 1px 3px 1px rgba(60, 64, 67, 0.15);\n",
              "      fill: #174EA6;\n",
              "    }\n",
              "\n",
              "    [theme=dark] .colab-df-convert {\n",
              "      background-color: #3B4455;\n",
              "      fill: #D2E3FC;\n",
              "    }\n",
              "\n",
              "    [theme=dark] .colab-df-convert:hover {\n",
              "      background-color: #434B5C;\n",
              "      box-shadow: 0px 1px 3px 1px rgba(0, 0, 0, 0.15);\n",
              "      filter: drop-shadow(0px 1px 2px rgba(0, 0, 0, 0.3));\n",
              "      fill: #FFFFFF;\n",
              "    }\n",
              "  </style>\n",
              "\n",
              "      <script>\n",
              "        const buttonEl =\n",
              "          document.querySelector('#df-45f328b3-0844-4c06-9123-7518a0ef39a8 button.colab-df-convert');\n",
              "        buttonEl.style.display =\n",
              "          google.colab.kernel.accessAllowed ? 'block' : 'none';\n",
              "\n",
              "        async function convertToInteractive(key) {\n",
              "          const element = document.querySelector('#df-45f328b3-0844-4c06-9123-7518a0ef39a8');\n",
              "          const dataTable =\n",
              "            await google.colab.kernel.invokeFunction('convertToInteractive',\n",
              "                                                     [key], {});\n",
              "          if (!dataTable) return;\n",
              "\n",
              "          const docLinkHtml = 'Like what you see? Visit the ' +\n",
              "            '<a target=\"_blank\" href=https://colab.research.google.com/notebooks/data_table.ipynb>data table notebook</a>'\n",
              "            + ' to learn more about interactive tables.';\n",
              "          element.innerHTML = '';\n",
              "          dataTable['output_type'] = 'display_data';\n",
              "          await google.colab.output.renderOutput(dataTable, element);\n",
              "          const docLink = document.createElement('div');\n",
              "          docLink.innerHTML = docLinkHtml;\n",
              "          element.appendChild(docLink);\n",
              "        }\n",
              "      </script>\n",
              "    </div>\n",
              "  </div>\n",
              "  "
            ]
          },
          "metadata": {},
          "execution_count": 4
        }
      ]
    },
    {
      "cell_type": "code",
      "metadata": {
        "id": "lA__wmw-SIBP"
      },
      "source": [
        "# Удаляем столбец со временем\n",
        "data = df.drop(['Time'], axis=1)\n",
        "# Нормализуем столбец с суммой транзакции\n",
        "data['Amount'] = StandardScaler().fit_transform(data['Amount'].values.reshape(-1, 1))\n",
        "\n",
        "frauds = data[data.Class == 1] # записываем мошеннические операции\n",
        "normal = data[data.Class == 0] # записываем нормальные операции"
      ],
      "execution_count": null,
      "outputs": []
    },
    {
      "cell_type": "code",
      "metadata": {
        "id": "QG2ZvcTcSPSS",
        "colab": {
          "base_uri": "https://localhost:8080/"
        },
        "outputId": "2c907f18-f175-42d3-fcd2-9cde22eecff6"
      },
      "source": [
        "frauds.shape # смотрим какие размеры у мошеннических операций"
      ],
      "execution_count": null,
      "outputs": [
        {
          "output_type": "execute_result",
          "data": {
            "text/plain": [
              "(492, 30)"
            ]
          },
          "metadata": {},
          "execution_count": 6
        }
      ]
    },
    {
      "cell_type": "code",
      "metadata": {
        "id": "iyJSn49ESMb4",
        "colab": {
          "base_uri": "https://localhost:8080/"
        },
        "outputId": "766027f9-f5e9-47be-9971-799825180073"
      },
      "source": [
        "normal.shape # смотрим какие размеры у нормальных операций"
      ],
      "execution_count": null,
      "outputs": [
        {
          "output_type": "execute_result",
          "data": {
            "text/plain": [
              "(284315, 30)"
            ]
          },
          "metadata": {},
          "execution_count": 7
        }
      ]
    },
    {
      "cell_type": "code",
      "metadata": {
        "id": "8zFrSDquSTFq"
      },
      "source": [
        "RANDOM_SEED = 42 # задаем случайное значение\n",
        "# берём нормальные операции и разбиваем на train_test(только 'X')\n",
        "X_train, X_test = train_test_split(normal, test_size=0.2, random_state=RANDOM_SEED)"
      ],
      "execution_count": null,
      "outputs": []
    },
    {
      "cell_type": "code",
      "metadata": {
        "id": "GvRIAqvDSUon"
      },
      "source": [
        "# Удаляем класс в обучающем наборе данных\n",
        "X_train = X_train.drop(['Class'], axis=1)\n",
        "# Добавляем все мошеннические транзакции в тестовый набор данных\n",
        "X_test = pd.concat([X_test, frauds])\n",
        "# Делаем метки для тестового набора данных\n",
        "y_test = X_test['Class']\n",
        "# Удаляем класс у тестового набора данных\n",
        "X_test = X_test.drop(['Class'], axis=1)\n",
        "# Преобразуем данные в массивы numpy\n",
        "X_train = X_train.values\n",
        "X_test = X_test.values"
      ],
      "execution_count": null,
      "outputs": []
    },
    {
      "cell_type": "code",
      "metadata": {
        "id": "WqflqXicbX7b",
        "colab": {
          "base_uri": "https://localhost:8080/"
        },
        "outputId": "568e0a84-7e6c-4de6-d083-a355e0016b79"
      },
      "source": [
        "print(X_train.shape) # взглянем на размеры обучающих данных"
      ],
      "execution_count": null,
      "outputs": [
        {
          "output_type": "stream",
          "name": "stdout",
          "text": [
            "(227452, 29)\n"
          ]
        }
      ]
    },
    {
      "cell_type": "code",
      "metadata": {
        "id": "6pdKLikabrGS"
      },
      "source": [
        "def creditcardAutoencoder(): # объявляем автокодировщик для определения мошенич.транзакций\n",
        "  dataSize = X_train.shape[1] # берём размеры X_train по второй оси(30)\n",
        "  dataInput = Input(shape=(dataSize, )) # задаем эти размеры как входные в сеть\n",
        "  \n",
        "  x = Dense(10, activation='relu')(dataInput)\n",
        "  x = Dense(64, activation='relu')(x)\n",
        "  x = Dropout(0.1)(x)\n",
        "  x = Dense(100, activation='relu')(x) # пропускаем через полносвязный слой размером 10\n",
        "  x = Dense(dataSize, activation='linear')(x) # и через полносвязный слой размером 29 \n",
        "  \n",
        "  autoencoder = Model(inputs=dataInput, outputs=x) # собрали модель \n",
        "  \n",
        "  autoencoder.compile(optimizer='Adam', loss='mse') # компилируем модель также, с выбором оптимайзера и среднеквадратичной ошибки\n",
        "  \n",
        "  return autoencoder "
      ],
      "execution_count": null,
      "outputs": []
    },
    {
      "cell_type": "code",
      "metadata": {
        "id": "rPcOmHQY2itw"
      },
      "source": [
        "model = creditcardAutoencoder()"
      ],
      "execution_count": null,
      "outputs": []
    },
    {
      "cell_type": "code",
      "metadata": {
        "id": "N2LjGoPncgRS",
        "colab": {
          "base_uri": "https://localhost:8080/"
        },
        "outputId": "34213023-bf2d-4370-e516-3297a24b0934"
      },
      "source": [
        "history = model.fit(X_train, X_train,\n",
        "                    epochs=50,\n",
        "                    batch_size=32) # загружаем данные в модель(X_train'ы) и обучаем"
      ],
      "execution_count": null,
      "outputs": [
        {
          "output_type": "stream",
          "name": "stdout",
          "text": [
            "Epoch 1/50\n",
            "7108/7108 [==============================] - 15s 2ms/step - loss: 0.2493\n",
            "Epoch 2/50\n",
            "7108/7108 [==============================] - 15s 2ms/step - loss: 0.1408\n",
            "Epoch 3/50\n",
            "7108/7108 [==============================] - 14s 2ms/step - loss: 0.1243\n",
            "Epoch 4/50\n",
            "7108/7108 [==============================] - 15s 2ms/step - loss: 0.1167\n",
            "Epoch 5/50\n",
            "7108/7108 [==============================] - 15s 2ms/step - loss: 0.1116\n",
            "Epoch 6/50\n",
            "7108/7108 [==============================] - 15s 2ms/step - loss: 0.1067\n",
            "Epoch 7/50\n",
            "7108/7108 [==============================] - 14s 2ms/step - loss: 0.1031\n",
            "Epoch 8/50\n",
            "7108/7108 [==============================] - 15s 2ms/step - loss: 0.1000\n",
            "Epoch 9/50\n",
            "7108/7108 [==============================] - 15s 2ms/step - loss: 0.0967\n",
            "Epoch 10/50\n",
            "7108/7108 [==============================] - 14s 2ms/step - loss: 0.0951\n",
            "Epoch 11/50\n",
            "7108/7108 [==============================] - 14s 2ms/step - loss: 0.0916\n",
            "Epoch 12/50\n",
            "7108/7108 [==============================] - 17s 2ms/step - loss: 0.0909\n",
            "Epoch 13/50\n",
            "7108/7108 [==============================] - 17s 2ms/step - loss: 0.0881\n",
            "Epoch 14/50\n",
            "7108/7108 [==============================] - 14s 2ms/step - loss: 0.0859\n",
            "Epoch 15/50\n",
            "7108/7108 [==============================] - 14s 2ms/step - loss: 0.0844\n",
            "Epoch 16/50\n",
            "7108/7108 [==============================] - 15s 2ms/step - loss: 0.0842\n",
            "Epoch 17/50\n",
            "7108/7108 [==============================] - 15s 2ms/step - loss: 0.0831\n",
            "Epoch 18/50\n",
            "7108/7108 [==============================] - 15s 2ms/step - loss: 0.0811\n",
            "Epoch 19/50\n",
            "7108/7108 [==============================] - 14s 2ms/step - loss: 0.0806\n",
            "Epoch 20/50\n",
            "7108/7108 [==============================] - 15s 2ms/step - loss: 0.0806\n",
            "Epoch 21/50\n",
            "7108/7108 [==============================] - 14s 2ms/step - loss: 0.0787\n",
            "Epoch 22/50\n",
            "7108/7108 [==============================] - 14s 2ms/step - loss: 0.0789\n",
            "Epoch 23/50\n",
            "7108/7108 [==============================] - 14s 2ms/step - loss: 0.0789\n",
            "Epoch 24/50\n",
            "7108/7108 [==============================] - 14s 2ms/step - loss: 0.0776\n",
            "Epoch 25/50\n",
            "7108/7108 [==============================] - 15s 2ms/step - loss: 0.0774\n",
            "Epoch 26/50\n",
            "7108/7108 [==============================] - 15s 2ms/step - loss: 0.0773\n",
            "Epoch 27/50\n",
            "7108/7108 [==============================] - 15s 2ms/step - loss: 0.0774\n",
            "Epoch 28/50\n",
            "7108/7108 [==============================] - 15s 2ms/step - loss: 0.0771\n",
            "Epoch 29/50\n",
            "7108/7108 [==============================] - 15s 2ms/step - loss: 0.0765\n",
            "Epoch 30/50\n",
            "7108/7108 [==============================] - 15s 2ms/step - loss: 0.0759\n",
            "Epoch 31/50\n",
            "7108/7108 [==============================] - 15s 2ms/step - loss: 0.0761\n",
            "Epoch 32/50\n",
            "7108/7108 [==============================] - 15s 2ms/step - loss: 0.0755\n",
            "Epoch 33/50\n",
            "7108/7108 [==============================] - 15s 2ms/step - loss: 0.0751\n",
            "Epoch 34/50\n",
            "7108/7108 [==============================] - 14s 2ms/step - loss: 0.0743\n",
            "Epoch 35/50\n",
            "7108/7108 [==============================] - 15s 2ms/step - loss: 0.0751\n",
            "Epoch 36/50\n",
            "7108/7108 [==============================] - 14s 2ms/step - loss: 0.0737\n",
            "Epoch 37/50\n",
            "7108/7108 [==============================] - 15s 2ms/step - loss: 0.0734\n",
            "Epoch 38/50\n",
            "7108/7108 [==============================] - 15s 2ms/step - loss: 0.0738\n",
            "Epoch 39/50\n",
            "7108/7108 [==============================] - 15s 2ms/step - loss: 0.0736\n",
            "Epoch 40/50\n",
            "7108/7108 [==============================] - 15s 2ms/step - loss: 0.0749\n",
            "Epoch 41/50\n",
            "7108/7108 [==============================] - 15s 2ms/step - loss: 0.0723\n",
            "Epoch 42/50\n",
            "7108/7108 [==============================] - 15s 2ms/step - loss: 0.0726\n",
            "Epoch 43/50\n",
            "7108/7108 [==============================] - 15s 2ms/step - loss: 0.0735\n",
            "Epoch 44/50\n",
            "7108/7108 [==============================] - 15s 2ms/step - loss: 0.0724\n",
            "Epoch 45/50\n",
            "7108/7108 [==============================] - 15s 2ms/step - loss: 0.0722\n",
            "Epoch 46/50\n",
            "7108/7108 [==============================] - 15s 2ms/step - loss: 0.0718\n",
            "Epoch 47/50\n",
            "7108/7108 [==============================] - 15s 2ms/step - loss: 0.0715\n",
            "Epoch 48/50\n",
            "7108/7108 [==============================] - 15s 2ms/step - loss: 0.0714\n",
            "Epoch 49/50\n",
            "7108/7108 [==============================] - 15s 2ms/step - loss: 0.0712\n",
            "Epoch 50/50\n",
            "7108/7108 [==============================] - 15s 2ms/step - loss: 0.0703\n"
          ]
        }
      ]
    },
    {
      "cell_type": "code",
      "metadata": {
        "id": "kQ3TVd5J5hOu",
        "colab": {
          "base_uri": "https://localhost:8080/",
          "height": 428
        },
        "outputId": "c60969c9-6619-45da-eab2-cf7c1bff5e4b"
      },
      "source": [
        "#Выводим графики\n",
        "plt.figure(figsize=(14,7))\n",
        "plt.plot(history.history['loss'][10:], \n",
        "         label='Ошибка на обучающем наборе')\n",
        "plt.ylabel('Средняя ошибка')\n",
        "plt.legend()\n",
        "plt.show()"
      ],
      "execution_count": null,
      "outputs": [
        {
          "output_type": "display_data",
          "data": {
            "text/plain": [
              "<Figure size 1008x504 with 1 Axes>"
            ],
            "image/png": "[encoded data removed]"
          },
          "metadata": {}
        }
      ]
    },
    {
      "cell_type": "code",
      "metadata": {
        "id": "g_a2nEGcdSLg"
      },
      "source": [
        "predictions = model.predict(X_test) # делаем предсказание по X_test"
      ],
      "execution_count": null,
      "outputs": []
    },
    {
      "cell_type": "code",
      "metadata": {
        "id": "hjMqaIY8dVKX"
      },
      "source": [
        "mse = np.mean(np.power(X_test - predictions, 2), axis=1) # определяем среднеквадратичную ошибку по X_test и предсказанием по X_test"
      ],
      "execution_count": null,
      "outputs": []
    },
    {
      "cell_type": "code",
      "metadata": {
        "id": "t9L_kEtfeel2"
      },
      "source": [
        "mse_normal = mse[y_test.values == 0] # среднеквадратичная ошибка на нормальных операциях\n",
        "mse_frauds = mse[y_test.values == 1] # среднеквадратичная ошибка на мошеннических операциях"
      ],
      "execution_count": null,
      "outputs": []
    },
    {
      "cell_type": "code",
      "metadata": {
        "id": "OzI7K95qeux7",
        "colab": {
          "base_uri": "https://localhost:8080/"
        },
        "outputId": "62ed90b8-3119-408a-b8cb-24f779cf2930"
      },
      "source": [
        "print(\"Минимальная ошибка нормальных транзакций:\", round(min(mse_normal),4)) #найдем минимальную среднеквадратичную ошибку на нормальных операциях\n",
        "print(\"Максимальная ошибка нормальных транзакций:\", round(max(mse_normal),4)) #найдем максимальную среднеквадратичную ошибку на нормальных операциях\n",
        "print(\"Средняя ошибка нормальных транзакций:\", round(sum(mse_normal) / len(mse_normal),4)) # среднюю ошибку"
      ],
      "execution_count": null,
      "outputs": [
        {
          "output_type": "stream",
          "name": "stdout",
          "text": [
            "Минимальная ошибка нормальных транзакций: 0.0042\n",
            "Максимальная ошибка нормальных транзакций: 73.5338\n",
            "Средняя ошибка нормальных транзакций: 0.0705\n"
          ]
        }
      ]
    },
    {
      "cell_type": "code",
      "metadata": {
        "id": "eDcJ_CX7e4SN",
        "colab": {
          "base_uri": "https://localhost:8080/"
        },
        "outputId": "73f08c74-f633-47e9-9532-c2f318b8a625"
      },
      "source": [
        "print(\"Минимальная ошибка мошеннических транзакций:\", round(min(mse_frauds),4)) #найдем минимальную среднеквадратичную ошибку на мошеннических операциях\n",
        "print(\"Максимальная ошибка мошеннических транзакций:\", round(max(mse_frauds),4)) #найдем максимальную среднеквадратичную ошибку на мошеннических операциях\n",
        "print(\"Средняя ошибка мошеннических транзакций:\", round(sum(mse_frauds) / len(mse_frauds),4)) # среднюю ошибку"
      ],
      "execution_count": null,
      "outputs": [
        {
          "output_type": "stream",
          "name": "stdout",
          "text": [
            "Минимальная ошибка мошеннических транзакций: 0.0098\n",
            "Максимальная ошибка мошеннических транзакций: 76.465\n",
            "Средняя ошибка мошеннических транзакций: 4.643\n"
          ]
        }
      ]
    },
    {
      "cell_type": "code",
      "metadata": {
        "id": "NOwSVExle9Bm"
      },
      "source": [
        "def getAccByBias(bias, write=True): # функция будет принимать какое то пороговое значение\n",
        "  isNormal = mse_normal < bias # если ошибка меньше порога - то транзакция нормальная\n",
        "  isFrauds = mse_frauds > bias # если ошибка больше порога - то транзакция мошенническая\n",
        "\n",
        "  accNormal = sum(isNormal) / len(isNormal) # вычисляем процент нормальных операций\n",
        "  accFaruds = sum(isFrauds) / len(isFrauds) # вычисляем процент мошеннических операций\n",
        "  if write:\n",
        "    print(\"Распознано нормальных транзакций: \", round(100*accNormal), \"%\", sep=\"\")\n",
        "    print(\"Распознано мошеннических транзакций: \", round(100*accFaruds), \"%\", sep=\"\")\n",
        "    print(\"Средняя точность распознавания: \", round(50*(accNormal + accFaruds)), \"%\", sep=\"\")\n",
        "  return [accNormal, accFaruds, 50*(accNormal + accFaruds)]"
      ],
      "execution_count": null,
      "outputs": []
    },
    {
      "cell_type": "code",
      "metadata": {
        "id": "iRCIhNkafrhf",
        "colab": {
          "base_uri": "https://localhost:8080/"
        },
        "outputId": "4ab7d82a-1b87-4b2b-e3a9-383f22dcd07b"
      },
      "source": [
        "getAccByBias(0.35) # выведем данные по распознаванию с конкретным пороговым значением"
      ],
      "execution_count": null,
      "outputs": [
        {
          "output_type": "stream",
          "name": "stdout",
          "text": [
            "Распознано нормальных транзакций: 98%\n",
            "Распознано мошеннических транзакций: 84%\n",
            "Средняя точность распознавания: 91%\n"
          ]
        },
        {
          "output_type": "execute_result",
          "data": {
            "text/plain": [
              "[0.9770676890069113, 0.8394308943089431, 90.82492916579272]"
            ]
          },
          "metadata": {},
          "execution_count": 85
        }
      ]
    },
    {
      "cell_type": "markdown",
      "source": [],
      "metadata": {
        "id": "NdMtWK5GoLJv"
      }
    },
    {
      "cell_type": "code",
      "source": [
        "x = [ii*1e-1 for ii in range(10)]\n",
        "y = [getAccByBias(ii, False) for ii in x]\n",
        "accNorm = [elem[0] for elem in y]\n",
        "accFar = [elem[1] for elem in y]\n",
        "\n"
      ],
      "metadata": {
        "id": "O7GoNj-uoJMp"
      },
      "execution_count": null,
      "outputs": []
    },
    {
      "cell_type": "code",
      "source": [
        "sns.barplot(x=x, y=accNorm, color='blue');\n"
      ],
      "metadata": {
        "colab": {
          "base_uri": "https://localhost:8080/",
          "height": 265
        },
        "id": "8wyrmKZTqE1F",
        "outputId": "2c21e839-ae5b-45ec-a887-3b653c96c22c"
      },
      "execution_count": null,
      "outputs": [
        {
          "output_type": "display_data",
          "data": {
            "text/plain": [
              "<Figure size 432x288 with 1 Axes>"
            ],
            "image/png": "[encoded data removed]"
          },
          "metadata": {}
        }
      ]
    },
    {
      "cell_type": "code",
      "source": [
        "sns.barplot(x=x, y=accFar, color=\"red\")"
      ],
      "metadata": {
        "colab": {
          "base_uri": "https://localhost:8080/",
          "height": 282
        },
        "id": "GIXAb5D3qFHB",
        "outputId": "e50d8022-1aa2-4fc4-e801-425632a5e25f"
      },
      "execution_count": null,
      "outputs": [
        {
          "output_type": "execute_result",
          "data": {
            "text/plain": [
              "<matplotlib.axes._subplots.AxesSubplot at 0x7f5883339690>"
            ]
          },
          "metadata": {},
          "execution_count": 79
        },
        {
          "output_type": "display_data",
          "data": {
            "text/plain": [
              "<Figure size 432x288 with 1 Axes>"
            ],
            "image/png": "[encoded data removed]"
          },
          "metadata": {}
        }
      ]
    },
    {
      "cell_type": "markdown",
      "source": [
        "# Вывод"
      ],
      "metadata": {
        "id": "Lku78AMIzR4J"
      }
    },
    {
      "cell_type": "markdown",
      "source": [
        "## 1 порог"
      ],
      "metadata": {
        "id": "ZgDmHUrqza84"
      }
    },
    {
      "cell_type": "markdown",
      "source": [
        "При значении bias 0.0 все мошеннические транзакции будут пойманы"
      ],
      "metadata": {
        "id": "dS2g8sLfzuLE"
      }
    },
    {
      "cell_type": "markdown",
      "source": [
        "## 2 порог"
      ],
      "metadata": {
        "id": "rv6nyK6QzfIC"
      }
    },
    {
      "cell_type": "markdown",
      "source": [
        "“Оптимальный порог” - 0.35"
      ],
      "metadata": {
        "id": "0v3WtO0pz2hR"
      }
    },
    {
      "cell_type": "markdown",
      "source": [
        "## 3 порог"
      ],
      "metadata": {
        "id": "874G6IX9zfOV"
      }
    },
    {
      "cell_type": "markdown",
      "source": [
        "При значении bias 0.5 ни одна нормальная транзакция не будет распознана, как мошенническая"
      ],
      "metadata": {
        "id": "zu4aup-yzhh0"
      }
    }
  ]
}